{
 "metadata": {
  "name": ""
 },
 "nbformat": 3,
 "nbformat_minor": 0,
 "worksheets": [
  {
   "cells": [
    {
     "cell_type": "markdown",
     "metadata": {},
     "source": [
      "In the following analysis, we see how well we can use a linear model as a predictor for the final auction price, first based only on features we know before the auction begins, and then based on the information we can obtain just after 9/10 of the auction time passes."
     ]
    },
    {
     "cell_type": "markdown",
     "metadata": {},
     "source": [
      "#Data Cleanup"
     ]
    },
    {
     "cell_type": "code",
     "collapsed": false,
     "input": [
      "%matplotlib inline\n",
      "\n",
      "import json\n",
      "\n",
      "import requests\n",
      "import pandas as pd\n",
      "import numpy as np\n",
      "import matplotlib.pyplot as plt\n",
      "from scipy import stats\n",
      "import random\n",
      "\n",
      "pd.set_option('display.width', 500)\n",
      "pd.set_option('display.max_columns', 30)\n",
      "\n",
      "# set some nicer defaults for matplotlib\n",
      "from matplotlib import rcParams\n",
      "\n",
      "#these colors come from colorbrewer2.org. Each is an RGB triplet\n",
      "dark2_colors = [(0.10588235294117647, 0.6196078431372549, 0.4666666666666667),\n",
      "                (0.8509803921568627, 0.37254901960784315, 0.00784313725490196),\n",
      "                (0.4588235294117647, 0.4392156862745098, 0.7019607843137254),\n",
      "                (0.9058823529411765, 0.1607843137254902, 0.5411764705882353),\n",
      "                (0.4, 0.6509803921568628, 0.11764705882352941),\n",
      "                (0.9019607843137255, 0.6705882352941176, 0.00784313725490196),\n",
      "                (0.6509803921568628, 0.4627450980392157, 0.11372549019607843),\n",
      "                (0.4, 0.4, 0.4)]\n",
      "\n",
      "rcParams['figure.figsize'] = (10, 6)\n",
      "rcParams['figure.dpi'] = 150\n",
      "rcParams['axes.color_cycle'] = dark2_colors\n",
      "rcParams['lines.linewidth'] = 2\n",
      "rcParams['axes.grid'] = False\n",
      "rcParams['axes.facecolor'] = 'white'\n",
      "rcParams['font.size'] = 14\n",
      "rcParams['patch.edgecolor'] = 'none'\n",
      "\n",
      "\n",
      "def remove_border(axes=None, top=False, right=False, left=True, bottom=True):\n",
      "    \"\"\"\n",
      "    Minimize chartjunk by stripping out unnecessary plot borders and axis ticks\n",
      "    \n",
      "    The top/right/left/bottom keywords toggle whether the corresponding plot border is drawn\n",
      "    \"\"\"\n",
      "    ax = axes or plt.gca()\n",
      "    ax.spines['top'].set_visible(top)\n",
      "    ax.spines['right'].set_visible(right)\n",
      "    ax.spines['left'].set_visible(left)\n",
      "    ax.spines['bottom'].set_visible(bottom)\n",
      "    \n",
      "    #turn off all ticks\n",
      "    ax.yaxis.set_ticks_position('none')\n",
      "    ax.xaxis.set_ticks_position('none')\n",
      "    \n",
      "    #now re-enable visibles\n",
      "    if top:\n",
      "        ax.xaxis.tick_top()\n",
      "    if bottom:\n",
      "        ax.xaxis.tick_bottom()\n",
      "    if left:\n",
      "        ax.yaxis.tick_left()\n",
      "    if right:\n",
      "        ax.yaxis.tick_right()"
     ],
     "language": "python",
     "metadata": {},
     "outputs": [],
     "prompt_number": 113
    },
    {
     "cell_type": "code",
     "collapsed": false,
     "input": [
      "from re import sub\n",
      "from decimal import Decimal\n",
      "from datetime import datetime\n",
      "\n",
      "# define function to convert time to UTC timestamp format\n",
      "\n",
      "def convert_UTC(time):\n",
      "    \n",
      "    month_str = time.split('-')[0]\n",
      "    day = time.split('-')[1]\n",
      "    year_time_temp = time.split('-')[2]\n",
      "    year = year_time_temp.split()[0]\n",
      "    time_temp = year_time_temp.split()[1]\n",
      "    hour = time_temp.split(':')[0]\n",
      "    minute = time_temp.split(':')[1]\n",
      "    second = time_temp.split(':')[2]\n",
      "    \n",
      "    if month_str=='Jan':\n",
      "        month = 1\n",
      "    elif month_str=='Feb':\n",
      "        month = 2\n",
      "    elif month_str=='Mar':\n",
      "        month = 3\n",
      "    elif month_str=='Apr':\n",
      "        month = 4\n",
      "    elif month_str=='May':\n",
      "        month = 5\n",
      "    elif month_str=='Jun':\n",
      "        month = 6\n",
      "    elif month_str=='Jul':\n",
      "        month = 7\n",
      "    elif month_str=='Aug':\n",
      "        month = 8\n",
      "    elif month_str=='Sep':\n",
      "        month = 9\n",
      "    elif month_str=='Oct':\n",
      "        month = 10\n",
      "    elif month_str=='Nov':\n",
      "        month = 11\n",
      "    else:\n",
      "        month = 12\n",
      "        \n",
      "    year = int('20'+year)\n",
      "    month = int(month)\n",
      "    day = int(day)\n",
      "    hour = int(hour)\n",
      "    minute = int(minute)\n",
      "    second = int(second)\n",
      "        \n",
      "    datetime_ver = datetime(year, month, day, hour, minute, second)\n",
      "    \n",
      "    timestamp = (datetime_ver - datetime(1970, 1, 1)).total_seconds()\n",
      "    \n",
      "    return timestamp"
     ],
     "language": "python",
     "metadata": {},
     "outputs": [],
     "prompt_number": 114
    },
    {
     "cell_type": "code",
     "collapsed": false,
     "input": [
      "# Helper functions\n",
      "\n",
      "# convert string price to float\n",
      "def price_converter(price):\n",
      "    temp = price[4:]\n",
      "    result = temp.replace(',', '')\n",
      "    return float(result)"
     ],
     "language": "python",
     "metadata": {},
     "outputs": [],
     "prompt_number": 115
    },
    {
     "cell_type": "code",
     "collapsed": false,
     "input": [
      "# prepare feature data for use\n",
      "\n",
      "# drop outlier observations (impossible years, weird mileages)\n",
      "\n",
      "items = pd.load('basic_data_merged.pkl')\n",
      "items.drop_duplicates(cols=['prod_id'], inplace=True)\n",
      "items['prod_id'] = items['prod_id'].astype(str)\n",
      "items[['prod_yr', 'prod_milage']] = items[['prod_yr', 'prod_milage']].astype(int)\n",
      "items = items[(items['prod_yr'] > 1900) & (items['prod_yr'] < 2015)]\n",
      "items = items[(items['prod_milage'] >= 0) & (items['prod_milage'] <=500000)]\n",
      "\n",
      "# drop redundant columns\n",
      "del items['title']\n",
      "del items['prod_title']"
     ],
     "language": "python",
     "metadata": {},
     "outputs": [],
     "prompt_number": 504
    },
    {
     "cell_type": "code",
     "collapsed": false,
     "input": [
      "# prepare time series data for use\n",
      "\n",
      "bids = pd.read_csv('time_series_big.csv', sep='\\t')\n",
      "bids.drop_duplicates(inplace=True)\n",
      "bids['prod_id'] = bids['prod_id'].astype(str)\n"
     ],
     "language": "python",
     "metadata": {},
     "outputs": [],
     "prompt_number": 242
    },
    {
     "cell_type": "code",
     "collapsed": false,
     "input": [
      "# remove all bids for which we don't have corresponding items\n",
      "print 'Length before deletions: ', len(bids)\n",
      "all_ids = items['prod_id']\n",
      "bids = bids[bids['prod_id'].isin(all_ids)]\n",
      "print 'Length after deletions: ', len(bids)"
     ],
     "language": "python",
     "metadata": {},
     "outputs": [
      {
       "output_type": "stream",
       "stream": "stdout",
       "text": [
        "Length before deletions:  1490587\n",
        "Length after deletions: "
       ]
      },
      {
       "output_type": "stream",
       "stream": "stdout",
       "text": [
        " 1279248\n"
       ]
      }
     ],
     "prompt_number": 243
    },
    {
     "cell_type": "code",
     "collapsed": false,
     "input": [
      "# convert price strings to floats\n",
      "bids['price'] = bids['price'].map(price_converter)"
     ],
     "language": "python",
     "metadata": {},
     "outputs": [],
     "prompt_number": 244
    },
    {
     "cell_type": "code",
     "collapsed": false,
     "input": [
      "# order data by id, then descending price\n",
      "bids = bids.sort(['prod_id', 'price'], ascending=[1, 0])\n",
      "bids.index = range(len(bids))"
     ],
     "language": "python",
     "metadata": {},
     "outputs": [],
     "prompt_number": 245
    },
    {
     "cell_type": "code",
     "collapsed": false,
     "input": [
      "# convert times to UTC\n",
      "bids['utc_time'] = bids['ebay_time'].map(convert_UTC)\n",
      "del bids['ebay_time']"
     ],
     "language": "python",
     "metadata": {},
     "outputs": [],
     "prompt_number": 246
    },
    {
     "cell_type": "code",
     "collapsed": false,
     "input": [
      "# get rid of all spaces in usernames -- there are inconsistencies\n",
      "bids['bidder'] = bids['bidder'].map(lambda name: \"\".join(name.split()))"
     ],
     "language": "python",
     "metadata": {},
     "outputs": [],
     "prompt_number": 247
    },
    {
     "cell_type": "code",
     "collapsed": false,
     "input": [
      "# drop weird bids (same price in consecutive rows or same user in consecutive rows)\n",
      "# for same price, keep the earlier bid\n",
      "# for same user, keep the higher bid amount\n",
      "delete_rows = []\n",
      "for i in range(len(bids) - 1):\n",
      "    if i % 10000 == 0:\n",
      "        print i\n",
      "    if bids['price'][i] == bids['price'][i + 1] \\\n",
      "     and bids['prod_id'][i] == bids['prod_id'][i + 1]:\n",
      "        delete_rows.append(i)\n",
      "    if bids['bidder'][i] == bids['bidder'][i + 1] \\\n",
      "     and bids['prod_id'][i] == bids['prod_id'][i + 1]:\n",
      "        delete_rows.append(i + 1)\n",
      "        \n"
     ],
     "language": "python",
     "metadata": {},
     "outputs": [
      {
       "output_type": "stream",
       "stream": "stdout",
       "text": [
        "0\n",
        "10000"
       ]
      },
      {
       "output_type": "stream",
       "stream": "stdout",
       "text": [
        "\n",
        "20000"
       ]
      },
      {
       "output_type": "stream",
       "stream": "stdout",
       "text": [
        "\n",
        "30000"
       ]
      },
      {
       "output_type": "stream",
       "stream": "stdout",
       "text": [
        "\n",
        "40000"
       ]
      },
      {
       "output_type": "stream",
       "stream": "stdout",
       "text": [
        "\n",
        "50000"
       ]
      },
      {
       "output_type": "stream",
       "stream": "stdout",
       "text": [
        "\n",
        "60000"
       ]
      },
      {
       "output_type": "stream",
       "stream": "stdout",
       "text": [
        "\n",
        "70000"
       ]
      },
      {
       "output_type": "stream",
       "stream": "stdout",
       "text": [
        "\n",
        "80000"
       ]
      },
      {
       "output_type": "stream",
       "stream": "stdout",
       "text": [
        "\n",
        "90000"
       ]
      },
      {
       "output_type": "stream",
       "stream": "stdout",
       "text": [
        "\n",
        "100000"
       ]
      },
      {
       "output_type": "stream",
       "stream": "stdout",
       "text": [
        "\n",
        "110000"
       ]
      },
      {
       "output_type": "stream",
       "stream": "stdout",
       "text": [
        "\n",
        "120000"
       ]
      },
      {
       "output_type": "stream",
       "stream": "stdout",
       "text": [
        "\n",
        "130000"
       ]
      },
      {
       "output_type": "stream",
       "stream": "stdout",
       "text": [
        "\n",
        "140000"
       ]
      },
      {
       "output_type": "stream",
       "stream": "stdout",
       "text": [
        "\n",
        "150000"
       ]
      },
      {
       "output_type": "stream",
       "stream": "stdout",
       "text": [
        "\n",
        "160000"
       ]
      },
      {
       "output_type": "stream",
       "stream": "stdout",
       "text": [
        "\n",
        "170000"
       ]
      },
      {
       "output_type": "stream",
       "stream": "stdout",
       "text": [
        "\n",
        "180000"
       ]
      },
      {
       "output_type": "stream",
       "stream": "stdout",
       "text": [
        "\n",
        "190000"
       ]
      },
      {
       "output_type": "stream",
       "stream": "stdout",
       "text": [
        "\n",
        "200000"
       ]
      },
      {
       "output_type": "stream",
       "stream": "stdout",
       "text": [
        "\n",
        "210000"
       ]
      },
      {
       "output_type": "stream",
       "stream": "stdout",
       "text": [
        "\n",
        "220000"
       ]
      },
      {
       "output_type": "stream",
       "stream": "stdout",
       "text": [
        "\n",
        "230000"
       ]
      },
      {
       "output_type": "stream",
       "stream": "stdout",
       "text": [
        "\n",
        "240000"
       ]
      },
      {
       "output_type": "stream",
       "stream": "stdout",
       "text": [
        "\n",
        "250000"
       ]
      },
      {
       "output_type": "stream",
       "stream": "stdout",
       "text": [
        "\n",
        "260000"
       ]
      },
      {
       "output_type": "stream",
       "stream": "stdout",
       "text": [
        "\n",
        "270000"
       ]
      },
      {
       "output_type": "stream",
       "stream": "stdout",
       "text": [
        "\n",
        "280000"
       ]
      },
      {
       "output_type": "stream",
       "stream": "stdout",
       "text": [
        "\n",
        "290000"
       ]
      },
      {
       "output_type": "stream",
       "stream": "stdout",
       "text": [
        "\n",
        "300000"
       ]
      },
      {
       "output_type": "stream",
       "stream": "stdout",
       "text": [
        "\n",
        "310000"
       ]
      },
      {
       "output_type": "stream",
       "stream": "stdout",
       "text": [
        "\n",
        "320000"
       ]
      },
      {
       "output_type": "stream",
       "stream": "stdout",
       "text": [
        "\n",
        "330000"
       ]
      },
      {
       "output_type": "stream",
       "stream": "stdout",
       "text": [
        "\n",
        "340000"
       ]
      },
      {
       "output_type": "stream",
       "stream": "stdout",
       "text": [
        "\n",
        "350000"
       ]
      },
      {
       "output_type": "stream",
       "stream": "stdout",
       "text": [
        "\n",
        "360000"
       ]
      },
      {
       "output_type": "stream",
       "stream": "stdout",
       "text": [
        "\n",
        "370000"
       ]
      },
      {
       "output_type": "stream",
       "stream": "stdout",
       "text": [
        "\n",
        "380000"
       ]
      },
      {
       "output_type": "stream",
       "stream": "stdout",
       "text": [
        "\n",
        "390000"
       ]
      },
      {
       "output_type": "stream",
       "stream": "stdout",
       "text": [
        "\n",
        "400000"
       ]
      },
      {
       "output_type": "stream",
       "stream": "stdout",
       "text": [
        "\n",
        "410000"
       ]
      },
      {
       "output_type": "stream",
       "stream": "stdout",
       "text": [
        "\n",
        "420000"
       ]
      },
      {
       "output_type": "stream",
       "stream": "stdout",
       "text": [
        "\n",
        "430000"
       ]
      },
      {
       "output_type": "stream",
       "stream": "stdout",
       "text": [
        "\n",
        "440000"
       ]
      },
      {
       "output_type": "stream",
       "stream": "stdout",
       "text": [
        "\n",
        "450000"
       ]
      },
      {
       "output_type": "stream",
       "stream": "stdout",
       "text": [
        "\n",
        "460000"
       ]
      },
      {
       "output_type": "stream",
       "stream": "stdout",
       "text": [
        "\n",
        "470000"
       ]
      },
      {
       "output_type": "stream",
       "stream": "stdout",
       "text": [
        "\n",
        "480000"
       ]
      },
      {
       "output_type": "stream",
       "stream": "stdout",
       "text": [
        "\n",
        "490000"
       ]
      },
      {
       "output_type": "stream",
       "stream": "stdout",
       "text": [
        "\n",
        "500000"
       ]
      },
      {
       "output_type": "stream",
       "stream": "stdout",
       "text": [
        "\n",
        "510000"
       ]
      },
      {
       "output_type": "stream",
       "stream": "stdout",
       "text": [
        "\n",
        "520000"
       ]
      },
      {
       "output_type": "stream",
       "stream": "stdout",
       "text": [
        "\n",
        "530000"
       ]
      },
      {
       "output_type": "stream",
       "stream": "stdout",
       "text": [
        "\n",
        "540000"
       ]
      },
      {
       "output_type": "stream",
       "stream": "stdout",
       "text": [
        "\n",
        "550000"
       ]
      },
      {
       "output_type": "stream",
       "stream": "stdout",
       "text": [
        "\n",
        "560000"
       ]
      },
      {
       "output_type": "stream",
       "stream": "stdout",
       "text": [
        "\n",
        "570000"
       ]
      },
      {
       "output_type": "stream",
       "stream": "stdout",
       "text": [
        "\n",
        "580000"
       ]
      },
      {
       "output_type": "stream",
       "stream": "stdout",
       "text": [
        "\n",
        "590000"
       ]
      },
      {
       "output_type": "stream",
       "stream": "stdout",
       "text": [
        "\n",
        "600000"
       ]
      },
      {
       "output_type": "stream",
       "stream": "stdout",
       "text": [
        "\n",
        "610000"
       ]
      },
      {
       "output_type": "stream",
       "stream": "stdout",
       "text": [
        "\n",
        "620000"
       ]
      },
      {
       "output_type": "stream",
       "stream": "stdout",
       "text": [
        "\n",
        "630000"
       ]
      },
      {
       "output_type": "stream",
       "stream": "stdout",
       "text": [
        "\n",
        "640000"
       ]
      },
      {
       "output_type": "stream",
       "stream": "stdout",
       "text": [
        "\n",
        "650000"
       ]
      },
      {
       "output_type": "stream",
       "stream": "stdout",
       "text": [
        "\n",
        "660000"
       ]
      },
      {
       "output_type": "stream",
       "stream": "stdout",
       "text": [
        "\n",
        "670000"
       ]
      },
      {
       "output_type": "stream",
       "stream": "stdout",
       "text": [
        "\n",
        "680000"
       ]
      },
      {
       "output_type": "stream",
       "stream": "stdout",
       "text": [
        "\n",
        "690000"
       ]
      },
      {
       "output_type": "stream",
       "stream": "stdout",
       "text": [
        "\n",
        "700000"
       ]
      },
      {
       "output_type": "stream",
       "stream": "stdout",
       "text": [
        "\n",
        "710000"
       ]
      },
      {
       "output_type": "stream",
       "stream": "stdout",
       "text": [
        "\n",
        "720000"
       ]
      },
      {
       "output_type": "stream",
       "stream": "stdout",
       "text": [
        "\n",
        "730000"
       ]
      },
      {
       "output_type": "stream",
       "stream": "stdout",
       "text": [
        "\n",
        "740000"
       ]
      },
      {
       "output_type": "stream",
       "stream": "stdout",
       "text": [
        "\n",
        "750000"
       ]
      },
      {
       "output_type": "stream",
       "stream": "stdout",
       "text": [
        "\n",
        "760000"
       ]
      },
      {
       "output_type": "stream",
       "stream": "stdout",
       "text": [
        "\n",
        "770000"
       ]
      },
      {
       "output_type": "stream",
       "stream": "stdout",
       "text": [
        "\n",
        "780000"
       ]
      },
      {
       "output_type": "stream",
       "stream": "stdout",
       "text": [
        "\n",
        "790000"
       ]
      },
      {
       "output_type": "stream",
       "stream": "stdout",
       "text": [
        "\n",
        "800000"
       ]
      },
      {
       "output_type": "stream",
       "stream": "stdout",
       "text": [
        "\n",
        "810000"
       ]
      },
      {
       "output_type": "stream",
       "stream": "stdout",
       "text": [
        "\n",
        "820000"
       ]
      },
      {
       "output_type": "stream",
       "stream": "stdout",
       "text": [
        "\n",
        "830000"
       ]
      },
      {
       "output_type": "stream",
       "stream": "stdout",
       "text": [
        "\n",
        "840000"
       ]
      },
      {
       "output_type": "stream",
       "stream": "stdout",
       "text": [
        "\n",
        "850000"
       ]
      },
      {
       "output_type": "stream",
       "stream": "stdout",
       "text": [
        "\n",
        "860000"
       ]
      },
      {
       "output_type": "stream",
       "stream": "stdout",
       "text": [
        "\n",
        "870000"
       ]
      },
      {
       "output_type": "stream",
       "stream": "stdout",
       "text": [
        "\n",
        "880000"
       ]
      },
      {
       "output_type": "stream",
       "stream": "stdout",
       "text": [
        "\n",
        "890000"
       ]
      },
      {
       "output_type": "stream",
       "stream": "stdout",
       "text": [
        "\n",
        "900000"
       ]
      },
      {
       "output_type": "stream",
       "stream": "stdout",
       "text": [
        "\n",
        "910000"
       ]
      },
      {
       "output_type": "stream",
       "stream": "stdout",
       "text": [
        "\n",
        "920000"
       ]
      },
      {
       "output_type": "stream",
       "stream": "stdout",
       "text": [
        "\n",
        "930000"
       ]
      },
      {
       "output_type": "stream",
       "stream": "stdout",
       "text": [
        "\n",
        "940000"
       ]
      },
      {
       "output_type": "stream",
       "stream": "stdout",
       "text": [
        "\n",
        "950000"
       ]
      },
      {
       "output_type": "stream",
       "stream": "stdout",
       "text": [
        "\n",
        "960000"
       ]
      },
      {
       "output_type": "stream",
       "stream": "stdout",
       "text": [
        "\n",
        "970000"
       ]
      },
      {
       "output_type": "stream",
       "stream": "stdout",
       "text": [
        "\n",
        "980000"
       ]
      },
      {
       "output_type": "stream",
       "stream": "stdout",
       "text": [
        "\n",
        "990000"
       ]
      },
      {
       "output_type": "stream",
       "stream": "stdout",
       "text": [
        "\n",
        "1000000"
       ]
      },
      {
       "output_type": "stream",
       "stream": "stdout",
       "text": [
        "\n",
        "1010000"
       ]
      },
      {
       "output_type": "stream",
       "stream": "stdout",
       "text": [
        "\n",
        "1020000"
       ]
      },
      {
       "output_type": "stream",
       "stream": "stdout",
       "text": [
        "\n",
        "1030000"
       ]
      },
      {
       "output_type": "stream",
       "stream": "stdout",
       "text": [
        "\n",
        "1040000"
       ]
      },
      {
       "output_type": "stream",
       "stream": "stdout",
       "text": [
        "\n",
        "1050000"
       ]
      },
      {
       "output_type": "stream",
       "stream": "stdout",
       "text": [
        "\n",
        "1060000"
       ]
      },
      {
       "output_type": "stream",
       "stream": "stdout",
       "text": [
        "\n",
        "1070000"
       ]
      },
      {
       "output_type": "stream",
       "stream": "stdout",
       "text": [
        "\n",
        "1080000"
       ]
      },
      {
       "output_type": "stream",
       "stream": "stdout",
       "text": [
        "\n",
        "1090000"
       ]
      },
      {
       "output_type": "stream",
       "stream": "stdout",
       "text": [
        "\n",
        "1100000"
       ]
      },
      {
       "output_type": "stream",
       "stream": "stdout",
       "text": [
        "\n",
        "1110000"
       ]
      },
      {
       "output_type": "stream",
       "stream": "stdout",
       "text": [
        "\n",
        "1120000"
       ]
      },
      {
       "output_type": "stream",
       "stream": "stdout",
       "text": [
        "\n",
        "1130000"
       ]
      },
      {
       "output_type": "stream",
       "stream": "stdout",
       "text": [
        "\n",
        "1140000"
       ]
      },
      {
       "output_type": "stream",
       "stream": "stdout",
       "text": [
        "\n",
        "1150000"
       ]
      },
      {
       "output_type": "stream",
       "stream": "stdout",
       "text": [
        "\n",
        "1160000"
       ]
      },
      {
       "output_type": "stream",
       "stream": "stdout",
       "text": [
        "\n",
        "1170000"
       ]
      },
      {
       "output_type": "stream",
       "stream": "stdout",
       "text": [
        "\n",
        "1180000"
       ]
      },
      {
       "output_type": "stream",
       "stream": "stdout",
       "text": [
        "\n",
        "1190000"
       ]
      },
      {
       "output_type": "stream",
       "stream": "stdout",
       "text": [
        "\n",
        "1200000"
       ]
      },
      {
       "output_type": "stream",
       "stream": "stdout",
       "text": [
        "\n",
        "1210000"
       ]
      },
      {
       "output_type": "stream",
       "stream": "stdout",
       "text": [
        "\n",
        "1220000"
       ]
      },
      {
       "output_type": "stream",
       "stream": "stdout",
       "text": [
        "\n",
        "1230000"
       ]
      },
      {
       "output_type": "stream",
       "stream": "stdout",
       "text": [
        "\n",
        "1240000"
       ]
      },
      {
       "output_type": "stream",
       "stream": "stdout",
       "text": [
        "\n",
        "1250000"
       ]
      },
      {
       "output_type": "stream",
       "stream": "stdout",
       "text": [
        "\n",
        "1260000"
       ]
      },
      {
       "output_type": "stream",
       "stream": "stdout",
       "text": [
        "\n",
        "1270000"
       ]
      },
      {
       "output_type": "stream",
       "stream": "stdout",
       "text": [
        "\n"
       ]
      }
     ],
     "prompt_number": 248
    },
    {
     "cell_type": "code",
     "collapsed": false,
     "input": [
      "to_delete = list(set(delete_rows))\n",
      "print \"Will delete %d rows\" % len(to_delete)\n",
      "bids = bids.drop(bids.index[to_delete])\n",
      "bids.index = range(len(bids))\n",
      "print \"New number of bids: \", len(bids)"
     ],
     "language": "python",
     "metadata": {},
     "outputs": [
      {
       "output_type": "stream",
       "stream": "stdout",
       "text": [
        "Will delete 364230 rows\n",
        "New number of bids: "
       ]
      },
      {
       "output_type": "stream",
       "stream": "stdout",
       "text": [
        " 915018\n"
       ]
      }
     ],
     "prompt_number": 249
    },
    {
     "cell_type": "code",
     "collapsed": false,
     "input": [
      "# adjust for auto bids with higher price timed before bids with lower price\n",
      "for i in range(len(bids) - 1):\n",
      "    if i % 10000 == 0:\n",
      "        print i\n",
      "    if (bids['utc_time'][i] <= bids['utc_time'][i+1]) \\\n",
      "     and (bids['prod_id'][i] == bids['prod_id'][i+1]):\n",
      "        bids['utc_time'][i] = (bids['utc_time'][i+1])+1\n",
      "        # make sure to propagate possible modifications upwards\n",
      "        j = i\n",
      "        while j > 0 and bids['utc_time'][j - 1] <= bids['utc_time'][j] \\\n",
      "         and bids['prod_id'][j - 1] == bids['prod_id'][j]:\n",
      "            bids['utc_time'][j - 1] = bids['utc_time'][j] + 1\n",
      "            j = j - 1\n",
      "\n"
     ],
     "language": "python",
     "metadata": {},
     "outputs": [
      {
       "output_type": "stream",
       "stream": "stdout",
       "text": [
        "0\n",
        "10000"
       ]
      },
      {
       "output_type": "stream",
       "stream": "stdout",
       "text": [
        "\n",
        "20000"
       ]
      },
      {
       "output_type": "stream",
       "stream": "stdout",
       "text": [
        "\n",
        "30000"
       ]
      },
      {
       "output_type": "stream",
       "stream": "stdout",
       "text": [
        "\n",
        "40000"
       ]
      },
      {
       "output_type": "stream",
       "stream": "stdout",
       "text": [
        "\n",
        "50000"
       ]
      },
      {
       "output_type": "stream",
       "stream": "stdout",
       "text": [
        "\n",
        "60000"
       ]
      },
      {
       "output_type": "stream",
       "stream": "stdout",
       "text": [
        "\n",
        "70000"
       ]
      },
      {
       "output_type": "stream",
       "stream": "stdout",
       "text": [
        "\n",
        "80000"
       ]
      },
      {
       "output_type": "stream",
       "stream": "stdout",
       "text": [
        "\n",
        "90000"
       ]
      },
      {
       "output_type": "stream",
       "stream": "stdout",
       "text": [
        "\n",
        "100000"
       ]
      },
      {
       "output_type": "stream",
       "stream": "stdout",
       "text": [
        "\n",
        "110000"
       ]
      },
      {
       "output_type": "stream",
       "stream": "stdout",
       "text": [
        "\n",
        "120000"
       ]
      },
      {
       "output_type": "stream",
       "stream": "stdout",
       "text": [
        "\n",
        "130000"
       ]
      },
      {
       "output_type": "stream",
       "stream": "stdout",
       "text": [
        "\n",
        "140000"
       ]
      },
      {
       "output_type": "stream",
       "stream": "stdout",
       "text": [
        "\n",
        "150000"
       ]
      },
      {
       "output_type": "stream",
       "stream": "stdout",
       "text": [
        "\n",
        "160000"
       ]
      },
      {
       "output_type": "stream",
       "stream": "stdout",
       "text": [
        "\n",
        "170000"
       ]
      },
      {
       "output_type": "stream",
       "stream": "stdout",
       "text": [
        "\n",
        "180000"
       ]
      },
      {
       "output_type": "stream",
       "stream": "stdout",
       "text": [
        "\n",
        "190000"
       ]
      },
      {
       "output_type": "stream",
       "stream": "stdout",
       "text": [
        "\n",
        "200000"
       ]
      },
      {
       "output_type": "stream",
       "stream": "stdout",
       "text": [
        "\n",
        "210000"
       ]
      },
      {
       "output_type": "stream",
       "stream": "stdout",
       "text": [
        "\n",
        "220000"
       ]
      },
      {
       "output_type": "stream",
       "stream": "stdout",
       "text": [
        "\n",
        "230000"
       ]
      },
      {
       "output_type": "stream",
       "stream": "stdout",
       "text": [
        "\n",
        "240000"
       ]
      },
      {
       "output_type": "stream",
       "stream": "stdout",
       "text": [
        "\n",
        "250000"
       ]
      },
      {
       "output_type": "stream",
       "stream": "stdout",
       "text": [
        "\n",
        "260000"
       ]
      },
      {
       "output_type": "stream",
       "stream": "stdout",
       "text": [
        "\n",
        "270000"
       ]
      },
      {
       "output_type": "stream",
       "stream": "stdout",
       "text": [
        "\n",
        "280000"
       ]
      },
      {
       "output_type": "stream",
       "stream": "stdout",
       "text": [
        "\n",
        "290000"
       ]
      },
      {
       "output_type": "stream",
       "stream": "stdout",
       "text": [
        "\n",
        "300000"
       ]
      },
      {
       "output_type": "stream",
       "stream": "stdout",
       "text": [
        "\n",
        "310000"
       ]
      },
      {
       "output_type": "stream",
       "stream": "stdout",
       "text": [
        "\n",
        "320000"
       ]
      },
      {
       "output_type": "stream",
       "stream": "stdout",
       "text": [
        "\n",
        "330000"
       ]
      },
      {
       "output_type": "stream",
       "stream": "stdout",
       "text": [
        "\n",
        "340000"
       ]
      },
      {
       "output_type": "stream",
       "stream": "stdout",
       "text": [
        "\n",
        "350000"
       ]
      },
      {
       "output_type": "stream",
       "stream": "stdout",
       "text": [
        "\n",
        "360000"
       ]
      },
      {
       "output_type": "stream",
       "stream": "stdout",
       "text": [
        "\n",
        "370000"
       ]
      },
      {
       "output_type": "stream",
       "stream": "stdout",
       "text": [
        "\n",
        "380000"
       ]
      },
      {
       "output_type": "stream",
       "stream": "stdout",
       "text": [
        "\n",
        "390000"
       ]
      },
      {
       "output_type": "stream",
       "stream": "stdout",
       "text": [
        "\n",
        "400000"
       ]
      },
      {
       "output_type": "stream",
       "stream": "stdout",
       "text": [
        "\n",
        "410000"
       ]
      },
      {
       "output_type": "stream",
       "stream": "stdout",
       "text": [
        "\n",
        "420000"
       ]
      },
      {
       "output_type": "stream",
       "stream": "stdout",
       "text": [
        "\n",
        "430000"
       ]
      },
      {
       "output_type": "stream",
       "stream": "stdout",
       "text": [
        "\n",
        "440000"
       ]
      },
      {
       "output_type": "stream",
       "stream": "stdout",
       "text": [
        "\n",
        "450000"
       ]
      },
      {
       "output_type": "stream",
       "stream": "stdout",
       "text": [
        "\n",
        "460000"
       ]
      },
      {
       "output_type": "stream",
       "stream": "stdout",
       "text": [
        "\n",
        "470000"
       ]
      },
      {
       "output_type": "stream",
       "stream": "stdout",
       "text": [
        "\n",
        "480000"
       ]
      },
      {
       "output_type": "stream",
       "stream": "stdout",
       "text": [
        "\n",
        "490000"
       ]
      },
      {
       "output_type": "stream",
       "stream": "stdout",
       "text": [
        "\n",
        "500000"
       ]
      },
      {
       "output_type": "stream",
       "stream": "stdout",
       "text": [
        "\n",
        "510000"
       ]
      },
      {
       "output_type": "stream",
       "stream": "stdout",
       "text": [
        "\n",
        "520000"
       ]
      },
      {
       "output_type": "stream",
       "stream": "stdout",
       "text": [
        "\n",
        "530000"
       ]
      },
      {
       "output_type": "stream",
       "stream": "stdout",
       "text": [
        "\n",
        "540000"
       ]
      },
      {
       "output_type": "stream",
       "stream": "stdout",
       "text": [
        "\n",
        "550000"
       ]
      },
      {
       "output_type": "stream",
       "stream": "stdout",
       "text": [
        "\n",
        "560000"
       ]
      },
      {
       "output_type": "stream",
       "stream": "stdout",
       "text": [
        "\n",
        "570000"
       ]
      },
      {
       "output_type": "stream",
       "stream": "stdout",
       "text": [
        "\n",
        "580000"
       ]
      },
      {
       "output_type": "stream",
       "stream": "stdout",
       "text": [
        "\n",
        "590000"
       ]
      },
      {
       "output_type": "stream",
       "stream": "stdout",
       "text": [
        "\n",
        "600000"
       ]
      },
      {
       "output_type": "stream",
       "stream": "stdout",
       "text": [
        "\n",
        "610000"
       ]
      },
      {
       "output_type": "stream",
       "stream": "stdout",
       "text": [
        "\n",
        "620000"
       ]
      },
      {
       "output_type": "stream",
       "stream": "stdout",
       "text": [
        "\n",
        "630000"
       ]
      },
      {
       "output_type": "stream",
       "stream": "stdout",
       "text": [
        "\n",
        "640000"
       ]
      },
      {
       "output_type": "stream",
       "stream": "stdout",
       "text": [
        "\n",
        "650000"
       ]
      },
      {
       "output_type": "stream",
       "stream": "stdout",
       "text": [
        "\n",
        "660000"
       ]
      },
      {
       "output_type": "stream",
       "stream": "stdout",
       "text": [
        "\n",
        "670000"
       ]
      },
      {
       "output_type": "stream",
       "stream": "stdout",
       "text": [
        "\n",
        "680000"
       ]
      },
      {
       "output_type": "stream",
       "stream": "stdout",
       "text": [
        "\n",
        "690000"
       ]
      },
      {
       "output_type": "stream",
       "stream": "stdout",
       "text": [
        "\n",
        "700000"
       ]
      },
      {
       "output_type": "stream",
       "stream": "stdout",
       "text": [
        "\n",
        "710000"
       ]
      },
      {
       "output_type": "stream",
       "stream": "stdout",
       "text": [
        "\n",
        "720000"
       ]
      },
      {
       "output_type": "stream",
       "stream": "stdout",
       "text": [
        "\n",
        "730000"
       ]
      },
      {
       "output_type": "stream",
       "stream": "stdout",
       "text": [
        "\n",
        "740000"
       ]
      },
      {
       "output_type": "stream",
       "stream": "stdout",
       "text": [
        "\n",
        "750000"
       ]
      },
      {
       "output_type": "stream",
       "stream": "stdout",
       "text": [
        "\n",
        "760000"
       ]
      },
      {
       "output_type": "stream",
       "stream": "stdout",
       "text": [
        "\n",
        "770000"
       ]
      },
      {
       "output_type": "stream",
       "stream": "stdout",
       "text": [
        "\n",
        "780000"
       ]
      },
      {
       "output_type": "stream",
       "stream": "stdout",
       "text": [
        "\n",
        "790000"
       ]
      },
      {
       "output_type": "stream",
       "stream": "stdout",
       "text": [
        "\n",
        "800000"
       ]
      },
      {
       "output_type": "stream",
       "stream": "stdout",
       "text": [
        "\n",
        "810000"
       ]
      },
      {
       "output_type": "stream",
       "stream": "stdout",
       "text": [
        "\n",
        "820000"
       ]
      },
      {
       "output_type": "stream",
       "stream": "stdout",
       "text": [
        "\n",
        "830000"
       ]
      },
      {
       "output_type": "stream",
       "stream": "stdout",
       "text": [
        "\n",
        "840000"
       ]
      },
      {
       "output_type": "stream",
       "stream": "stdout",
       "text": [
        "\n",
        "850000"
       ]
      },
      {
       "output_type": "stream",
       "stream": "stdout",
       "text": [
        "\n",
        "860000"
       ]
      },
      {
       "output_type": "stream",
       "stream": "stdout",
       "text": [
        "\n",
        "870000"
       ]
      },
      {
       "output_type": "stream",
       "stream": "stdout",
       "text": [
        "\n",
        "880000"
       ]
      },
      {
       "output_type": "stream",
       "stream": "stdout",
       "text": [
        "\n",
        "890000"
       ]
      },
      {
       "output_type": "stream",
       "stream": "stdout",
       "text": [
        "\n",
        "900000"
       ]
      },
      {
       "output_type": "stream",
       "stream": "stdout",
       "text": [
        "\n",
        "910000"
       ]
      },
      {
       "output_type": "stream",
       "stream": "stdout",
       "text": [
        "\n"
       ]
      }
     ],
     "prompt_number": 250
    },
    {
     "cell_type": "code",
     "collapsed": false,
     "input": [
      "bids['prod_id'] = bids['prod_id'].astype(long)"
     ],
     "language": "python",
     "metadata": {},
     "outputs": [],
     "prompt_number": 264
    },
    {
     "cell_type": "code",
     "collapsed": false,
     "input": [
      "# convert price strings to floats\n",
      "items['price'] = items['price'].map(price_converter)"
     ],
     "language": "python",
     "metadata": {},
     "outputs": [],
     "prompt_number": 505
    },
    {
     "cell_type": "code",
     "collapsed": false,
     "input": [
      "# order data by id\n",
      "items = items.sort(['prod_id'])\n",
      "items.index = range(len(items))"
     ],
     "language": "python",
     "metadata": {},
     "outputs": [],
     "prompt_number": 506
    },
    {
     "cell_type": "code",
     "collapsed": false,
     "input": [
      "# convert auction end times to UTC\n",
      "items['utc_end_time'] = items['end_time'].map(convert_UTC)\n",
      "del items['end_time']"
     ],
     "language": "python",
     "metadata": {},
     "outputs": [],
     "prompt_number": 507
    },
    {
     "cell_type": "code",
     "collapsed": false,
     "input": [
      "# change to a more informative name\n",
      "items.rename(columns={'price': 'end_price'}, inplace=True)"
     ],
     "language": "python",
     "metadata": {},
     "outputs": [],
     "prompt_number": 508
    },
    {
     "cell_type": "code",
     "collapsed": false,
     "input": [
      "# adjust model names\n",
      "items['model'] = items['model'].map(lambda name: name.strip())"
     ],
     "language": "python",
     "metadata": {},
     "outputs": [],
     "prompt_number": 509
    },
    {
     "cell_type": "code",
     "collapsed": false,
     "input": [
      "# change duration to seconds\n",
      "items['utc_duration'] = items['duration'].map(lambda name: int(name[:-5])*24*60*60)\n",
      "del items['duration']\n"
     ],
     "language": "python",
     "metadata": {},
     "outputs": [],
     "prompt_number": 510
    },
    {
     "cell_type": "code",
     "collapsed": false,
     "input": [
      "items['utc_start_time'] = items['utc_end_time'] - items['utc_duration']"
     ],
     "language": "python",
     "metadata": {},
     "outputs": [],
     "prompt_number": 511
    },
    {
     "cell_type": "code",
     "collapsed": false,
     "input": [
      "items['prod_id'] = items['prod_id'].astype(long)"
     ],
     "language": "python",
     "metadata": {},
     "outputs": [],
     "prompt_number": 512
    },
    {
     "cell_type": "code",
     "collapsed": false,
     "input": [
      "# items.to_csv('items_data.csv', index = False)"
     ],
     "language": "python",
     "metadata": {},
     "outputs": [],
     "prompt_number": 281
    },
    {
     "cell_type": "code",
     "collapsed": false,
     "input": [
      "bids.head(3)"
     ],
     "language": "python",
     "metadata": {},
     "outputs": [
      {
       "html": [
        "<div style=\"max-height:1000px;max-width:1500px;overflow:auto;\">\n",
        "<table border=\"1\" class=\"dataframe\">\n",
        "  <thead>\n",
        "    <tr style=\"text-align: right;\">\n",
        "      <th></th>\n",
        "      <th>bid_type</th>\n",
        "      <th>price</th>\n",
        "      <th>bidder</th>\n",
        "      <th>prod_id</th>\n",
        "      <th>utc_time</th>\n",
        "    </tr>\n",
        "  </thead>\n",
        "  <tbody>\n",
        "    <tr>\n",
        "      <th>0</th>\n",
        "      <td> 0</td>\n",
        "      <td> 6010</td>\n",
        "      <td>  n***_(19)</td>\n",
        "      <td> 111153016733</td>\n",
        "      <td> 1378666797</td>\n",
        "    </tr>\n",
        "    <tr>\n",
        "      <th>1</th>\n",
        "      <td> 0</td>\n",
        "      <td> 6000</td>\n",
        "      <td> c***r(885)</td>\n",
        "      <td> 111153016733</td>\n",
        "      <td> 1378543720</td>\n",
        "    </tr>\n",
        "    <tr>\n",
        "      <th>2</th>\n",
        "      <td> 0</td>\n",
        "      <td> 5801</td>\n",
        "      <td>   m***l(0)</td>\n",
        "      <td> 111153016733</td>\n",
        "      <td> 1378543719</td>\n",
        "    </tr>\n",
        "  </tbody>\n",
        "</table>\n",
        "</div>"
       ],
       "metadata": {},
       "output_type": "pyout",
       "prompt_number": 260,
       "text": [
        "   bid_type  price      bidder       prod_id    utc_time\n",
        "0         0   6010   n***_(19)  111153016733  1378666797\n",
        "1         0   6000  c***r(885)  111153016733  1378543720\n",
        "2         0   5801    m***l(0)  111153016733  1378543719"
       ]
      }
     ],
     "prompt_number": 260
    },
    {
     "cell_type": "code",
     "collapsed": false,
     "input": [
      "# Check that the number of bids corresponds to that scraped\n",
      "len(bids[(bids['prod_id'] == 111153016733) & (bids['bid_type'] != 1)])"
     ],
     "language": "python",
     "metadata": {},
     "outputs": [
      {
       "metadata": {},
       "output_type": "pyout",
       "prompt_number": 266,
       "text": [
        "31"
       ]
      }
     ],
     "prompt_number": 266
    },
    {
     "cell_type": "code",
     "collapsed": false,
     "input": [
      "items.head(15)"
     ],
     "language": "python",
     "metadata": {},
     "outputs": [
      {
       "html": [
        "<div style=\"max-height:1000px;max-width:1500px;overflow:auto;\">\n",
        "<table border=\"1\" class=\"dataframe\">\n",
        "  <thead>\n",
        "    <tr style=\"text-align: right;\">\n",
        "      <th></th>\n",
        "      <th>num_bidder</th>\n",
        "      <th>num_bids</th>\n",
        "      <th>end_price</th>\n",
        "      <th>prod_id</th>\n",
        "      <th>model</th>\n",
        "      <th>prod_milage</th>\n",
        "      <th>prod_yr</th>\n",
        "      <th>utc_end_time</th>\n",
        "      <th>utc_duration</th>\n",
        "      <th>utc_start_time</th>\n",
        "    </tr>\n",
        "  </thead>\n",
        "  <tbody>\n",
        "    <tr>\n",
        "      <th>0 </th>\n",
        "      <td>  7</td>\n",
        "      <td> 31</td>\n",
        "      <td>  6010.00</td>\n",
        "      <td> 111153016733</td>\n",
        "      <td>          Ford</td>\n",
        "      <td> 105024</td>\n",
        "      <td> 2005</td>\n",
        "      <td> 1378666800</td>\n",
        "      <td> 864000</td>\n",
        "      <td> 1377802800</td>\n",
        "    </tr>\n",
        "    <tr>\n",
        "      <th>1 </th>\n",
        "      <td>  7</td>\n",
        "      <td> 11</td>\n",
        "      <td> 18200.00</td>\n",
        "      <td> 111155451890</td>\n",
        "      <td>     Chevrolet</td>\n",
        "      <td>  26818</td>\n",
        "      <td> 2011</td>\n",
        "      <td> 1378710000</td>\n",
        "      <td> 604800</td>\n",
        "      <td> 1378105200</td>\n",
        "    </tr>\n",
        "    <tr>\n",
        "      <th>2 </th>\n",
        "      <td> 18</td>\n",
        "      <td> 50</td>\n",
        "      <td> 12511.00</td>\n",
        "      <td> 111155861689</td>\n",
        "      <td>        Toyota</td>\n",
        "      <td> 103902</td>\n",
        "      <td> 2006</td>\n",
        "      <td> 1378753200</td>\n",
        "      <td> 864000</td>\n",
        "      <td> 1377889200</td>\n",
        "    </tr>\n",
        "    <tr>\n",
        "      <th>3 </th>\n",
        "      <td> 11</td>\n",
        "      <td> 13</td>\n",
        "      <td>  5399.00</td>\n",
        "      <td> 111155868828</td>\n",
        "      <td>         Mazda</td>\n",
        "      <td>  35369</td>\n",
        "      <td> 2012</td>\n",
        "      <td> 1378667088</td>\n",
        "      <td> 864000</td>\n",
        "      <td> 1377803088</td>\n",
        "    </tr>\n",
        "    <tr>\n",
        "      <th>4 </th>\n",
        "      <td> 14</td>\n",
        "      <td> 38</td>\n",
        "      <td>  8900.00</td>\n",
        "      <td> 111155870001</td>\n",
        "      <td> Mercedes-Benz</td>\n",
        "      <td> 128698</td>\n",
        "      <td> 2004</td>\n",
        "      <td> 1378753200</td>\n",
        "      <td> 864000</td>\n",
        "      <td> 1377889200</td>\n",
        "    </tr>\n",
        "    <tr>\n",
        "      <th>5 </th>\n",
        "      <td> 20</td>\n",
        "      <td> 52</td>\n",
        "      <td> 10600.00</td>\n",
        "      <td> 111155875193</td>\n",
        "      <td>     Chevrolet</td>\n",
        "      <td> 118013</td>\n",
        "      <td> 2005</td>\n",
        "      <td> 1378753200</td>\n",
        "      <td> 864000</td>\n",
        "      <td> 1377889200</td>\n",
        "    </tr>\n",
        "    <tr>\n",
        "      <th>6 </th>\n",
        "      <td> 22</td>\n",
        "      <td> 46</td>\n",
        "      <td> 13713.00</td>\n",
        "      <td> 111155881183</td>\n",
        "      <td>      Cadillac</td>\n",
        "      <td>  40768</td>\n",
        "      <td> 2007</td>\n",
        "      <td> 1378753200</td>\n",
        "      <td> 864000</td>\n",
        "      <td> 1377889200</td>\n",
        "    </tr>\n",
        "    <tr>\n",
        "      <th>7 </th>\n",
        "      <td>  6</td>\n",
        "      <td> 23</td>\n",
        "      <td>  5101.01</td>\n",
        "      <td> 111156459328</td>\n",
        "      <td>     Chevrolet</td>\n",
        "      <td>  99869</td>\n",
        "      <td> 2008</td>\n",
        "      <td> 1378796400</td>\n",
        "      <td> 604800</td>\n",
        "      <td> 1378191600</td>\n",
        "    </tr>\n",
        "    <tr>\n",
        "      <th>8 </th>\n",
        "      <td>  5</td>\n",
        "      <td> 11</td>\n",
        "      <td> 13600.00</td>\n",
        "      <td> 111156462338</td>\n",
        "      <td>         Honda</td>\n",
        "      <td>      1</td>\n",
        "      <td> 2013</td>\n",
        "      <td> 1378751400</td>\n",
        "      <td> 864000</td>\n",
        "      <td> 1377887400</td>\n",
        "    </tr>\n",
        "    <tr>\n",
        "      <th>9 </th>\n",
        "      <td> 14</td>\n",
        "      <td> 29</td>\n",
        "      <td> 16000.00</td>\n",
        "      <td> 111156667339</td>\n",
        "      <td>     Chevrolet</td>\n",
        "      <td>   2398</td>\n",
        "      <td> 1970</td>\n",
        "      <td> 1378757566</td>\n",
        "      <td> 864000</td>\n",
        "      <td> 1377893566</td>\n",
        "    </tr>\n",
        "    <tr>\n",
        "      <th>10</th>\n",
        "      <td> 35</td>\n",
        "      <td> 60</td>\n",
        "      <td> 76325.00</td>\n",
        "      <td> 111156675622</td>\n",
        "      <td>          Ford</td>\n",
        "      <td>      5</td>\n",
        "      <td> 1967</td>\n",
        "      <td> 1378758762</td>\n",
        "      <td> 864000</td>\n",
        "      <td> 1377894762</td>\n",
        "    </tr>\n",
        "    <tr>\n",
        "      <th>11</th>\n",
        "      <td> 11</td>\n",
        "      <td> 33</td>\n",
        "      <td>  5500.00</td>\n",
        "      <td> 111156934599</td>\n",
        "      <td>    Volkswagen</td>\n",
        "      <td>  35500</td>\n",
        "      <td> 1998</td>\n",
        "      <td> 1378836000</td>\n",
        "      <td> 864000</td>\n",
        "      <td> 1377972000</td>\n",
        "    </tr>\n",
        "    <tr>\n",
        "      <th>12</th>\n",
        "      <td>  2</td>\n",
        "      <td>  4</td>\n",
        "      <td>  3175.00</td>\n",
        "      <td> 111157856923</td>\n",
        "      <td>          Ford</td>\n",
        "      <td>  39999</td>\n",
        "      <td> 1984</td>\n",
        "      <td> 1378663200</td>\n",
        "      <td> 604800</td>\n",
        "      <td> 1378058400</td>\n",
        "    </tr>\n",
        "    <tr>\n",
        "      <th>13</th>\n",
        "      <td>  2</td>\n",
        "      <td>  2</td>\n",
        "      <td>  7300.00</td>\n",
        "      <td> 111157908351</td>\n",
        "      <td>          Ford</td>\n",
        "      <td> 129227</td>\n",
        "      <td> 1966</td>\n",
        "      <td> 1378910198</td>\n",
        "      <td> 864000</td>\n",
        "      <td> 1378046198</td>\n",
        "    </tr>\n",
        "    <tr>\n",
        "      <th>14</th>\n",
        "      <td>  2</td>\n",
        "      <td>  2</td>\n",
        "      <td>   800.00</td>\n",
        "      <td> 111158023143</td>\n",
        "      <td>        Toyota</td>\n",
        "      <td> 119000</td>\n",
        "      <td> 2008</td>\n",
        "      <td> 1378663651</td>\n",
        "      <td> 604800</td>\n",
        "      <td> 1378058851</td>\n",
        "    </tr>\n",
        "  </tbody>\n",
        "</table>\n",
        "</div>"
       ],
       "metadata": {},
       "output_type": "pyout",
       "prompt_number": 513,
       "text": [
        "    num_bidder  num_bids  end_price       prod_id          model  prod_milage  prod_yr  utc_end_time  utc_duration  utc_start_time\n",
        "0            7        31    6010.00  111153016733           Ford       105024     2005    1378666800        864000      1377802800\n",
        "1            7        11   18200.00  111155451890      Chevrolet        26818     2011    1378710000        604800      1378105200\n",
        "2           18        50   12511.00  111155861689         Toyota       103902     2006    1378753200        864000      1377889200\n",
        "3           11        13    5399.00  111155868828          Mazda        35369     2012    1378667088        864000      1377803088\n",
        "4           14        38    8900.00  111155870001  Mercedes-Benz       128698     2004    1378753200        864000      1377889200\n",
        "5           20        52   10600.00  111155875193      Chevrolet       118013     2005    1378753200        864000      1377889200\n",
        "6           22        46   13713.00  111155881183       Cadillac        40768     2007    1378753200        864000      1377889200\n",
        "7            6        23    5101.01  111156459328      Chevrolet        99869     2008    1378796400        604800      1378191600\n",
        "8            5        11   13600.00  111156462338          Honda            1     2013    1378751400        864000      1377887400\n",
        "9           14        29   16000.00  111156667339      Chevrolet         2398     1970    1378757566        864000      1377893566\n",
        "10          35        60   76325.00  111156675622           Ford            5     1967    1378758762        864000      1377894762\n",
        "11          11        33    5500.00  111156934599     Volkswagen        35500     1998    1378836000        864000      1377972000\n",
        "12           2         4    3175.00  111157856923           Ford        39999     1984    1378663200        604800      1378058400\n",
        "13           2         2    7300.00  111157908351           Ford       129227     1966    1378910198        864000      1378046198\n",
        "14           2         2     800.00  111158023143         Toyota       119000     2008    1378663651        604800      1378058851"
       ]
      }
     ],
     "prompt_number": 513
    },
    {
     "cell_type": "markdown",
     "metadata": {},
     "source": [
      "We attempt to build a linear model using certain parameters of the auction that may affect the final price. The candidate predictors are:\n",
      "\n",
      "* starting price\n",
      "* price by auction 9/10 time (when the velocity is near 0 just before the final hike, as in James's model), and possibly some other times\n",
      "* total auction duration\n",
      "* mileage (possibly log?)\n",
      "* age (possibly log?)\n",
      "\n",
      "We will look at the relationships between all these and final auction prices one by one. We must first add the extra columns for the predictors we need to compute."
     ]
    },
    {
     "cell_type": "code",
     "collapsed": false,
     "input": [
      "del items['num_bidder']\n",
      "del items['num_bids']"
     ],
     "language": "python",
     "metadata": {},
     "outputs": [],
     "prompt_number": 514
    },
    {
     "cell_type": "code",
     "collapsed": false,
     "input": [
      "# find starting price\n",
      "start_bids = bids[bids['bid_type'] == -1]\n",
      "start_bids = start_bids.sort('prod_id')\n",
      "items['start_price'] = start_bids['price'].values"
     ],
     "language": "python",
     "metadata": {},
     "outputs": [],
     "prompt_number": 515
    },
    {
     "cell_type": "code",
     "collapsed": false,
     "input": [
      "# add age column\n",
      "items['age'] = 2014 - items['prod_yr']"
     ],
     "language": "python",
     "metadata": {},
     "outputs": [],
     "prompt_number": 518
    },
    {
     "cell_type": "code",
     "collapsed": false,
     "input": [
      "# remove items with zero end price\n",
      "items = items[items['end_price'] != 0]"
     ],
     "language": "python",
     "metadata": {},
     "outputs": [],
     "prompt_number": 519
    },
    {
     "cell_type": "code",
     "collapsed": false,
     "input": [
      "plt.scatter(items['age'], items['end_price'])"
     ],
     "language": "python",
     "metadata": {},
     "outputs": [
      {
       "metadata": {},
       "output_type": "pyout",
       "prompt_number": 520,
       "text": [
        "<matplotlib.collections.PathCollection at 0x1740f9350>"
       ]
      },
      {
       "metadata": {},
       "output_type": "display_data",
       "png": "[encoded data removed]",
       "text": [
        "<matplotlib.figure.Figure at 0x17d811050>"
       ]
      }
     ],
     "prompt_number": 520
    },
    {
     "cell_type": "markdown",
     "metadata": {},
     "source": [
      "Let's limit our prediction only to cars that aren't too old, since antique cars look more peculiar in pricing. Also, many of the items in the dataset aren't really cars due to user-input data, so we will limit the set we have to only items whose final price is at or above 100 dollars."
     ]
    },
    {
     "cell_type": "code",
     "collapsed": false,
     "input": [
      "items = items[(items['age'] <= 40) & (items['end_price'] >= 100)]"
     ],
     "language": "python",
     "metadata": {},
     "outputs": [],
     "prompt_number": 521
    },
    {
     "cell_type": "code",
     "collapsed": false,
     "input": [
      "# add prices, number of bids and bidders 9/10 of the time into the auction\n",
      "prices090 = []\n",
      "prices075 = []\n",
      "prices050 = []\n",
      "prices025 = []\n",
      "for i, row in items.iterrows():\n",
      "    if i % 1000 == 0:\n",
      "        print i\n",
      "    prod_id = row['prod_id']\n",
      "    time_cutoff090 = row['utc_start_time'] + 0.9 * row['utc_duration']\n",
      "    relevant_bids090 = bids[(bids['prod_id'] == prod_id) & (bids['utc_time'] <= time_cutoff090)]\n",
      "    price090 = relevant_bids090['price'].max()\n",
      "    if price090 is np.nan:\n",
      "        price090 = 0\n",
      "    time_cutoff075 = row['utc_start_time'] + 0.75 * row['utc_duration']\n",
      "    relevant_bids075 = relevant_bids090[(bids['utc_time'] <= time_cutoff075)]\n",
      "    price075 = relevant_bids075['price'].max()\n",
      "    if price075 is np.nan:\n",
      "        price075 = 0\n",
      "    time_cutoff050 = row['utc_start_time'] + 0.5 * row['utc_duration']\n",
      "    relevant_bids050 = relevant_bids075[bids['utc_time'] <= time_cutoff050]\n",
      "    price050 = relevant_bids050['price'].max()\n",
      "    if price050 is np.nan:\n",
      "        price050 = 0\n",
      "    time_cutoff025 = row['utc_start_time'] + 0.25 * row['utc_duration']\n",
      "    relevant_bids025 = relevant_bids050[bids['utc_time'] <= time_cutoff025]\n",
      "    price025 = relevant_bids025['price'].max()\n",
      "    if price025 is np.nan:\n",
      "        price025 = 0\n",
      "    prices090.append(price090)\n",
      "    prices075.append(price075)\n",
      "    prices050.append(price050)\n",
      "    prices025.append(price025)\n",
      "\n",
      "items['9/10price'] = prices090\n",
      "items['3/4price'] = prices075\n",
      "items['1/2price'] = prices050\n",
      "items['1/4price'] = prices025    "
     ],
     "language": "python",
     "metadata": {},
     "outputs": [
      {
       "output_type": "stream",
       "stream": "stdout",
       "text": [
        "0\n",
        "1000"
       ]
      },
      {
       "output_type": "stream",
       "stream": "stdout",
       "text": [
        "\n",
        "3000"
       ]
      },
      {
       "output_type": "stream",
       "stream": "stdout",
       "text": [
        "\n",
        "4000"
       ]
      },
      {
       "output_type": "stream",
       "stream": "stdout",
       "text": [
        "\n",
        "5000"
       ]
      },
      {
       "output_type": "stream",
       "stream": "stdout",
       "text": [
        "\n",
        "6000"
       ]
      },
      {
       "output_type": "stream",
       "stream": "stdout",
       "text": [
        "\n",
        "7000"
       ]
      },
      {
       "output_type": "stream",
       "stream": "stdout",
       "text": [
        "\n",
        "8000"
       ]
      },
      {
       "output_type": "stream",
       "stream": "stdout",
       "text": [
        "\n",
        "9000"
       ]
      },
      {
       "output_type": "stream",
       "stream": "stdout",
       "text": [
        "\n",
        "10000"
       ]
      },
      {
       "output_type": "stream",
       "stream": "stdout",
       "text": [
        "\n",
        "11000"
       ]
      },
      {
       "output_type": "stream",
       "stream": "stdout",
       "text": [
        "\n",
        "12000"
       ]
      },
      {
       "output_type": "stream",
       "stream": "stdout",
       "text": [
        "\n",
        "13000"
       ]
      },
      {
       "output_type": "stream",
       "stream": "stdout",
       "text": [
        "\n",
        "14000"
       ]
      },
      {
       "output_type": "stream",
       "stream": "stdout",
       "text": [
        "\n",
        "17000"
       ]
      },
      {
       "output_type": "stream",
       "stream": "stdout",
       "text": [
        "\n",
        "18000"
       ]
      },
      {
       "output_type": "stream",
       "stream": "stdout",
       "text": [
        "\n",
        "19000"
       ]
      },
      {
       "output_type": "stream",
       "stream": "stdout",
       "text": [
        "\n",
        "20000"
       ]
      },
      {
       "output_type": "stream",
       "stream": "stdout",
       "text": [
        "\n",
        "22000"
       ]
      },
      {
       "output_type": "stream",
       "stream": "stdout",
       "text": [
        "\n",
        "23000"
       ]
      },
      {
       "output_type": "stream",
       "stream": "stdout",
       "text": [
        "\n",
        "24000"
       ]
      },
      {
       "output_type": "stream",
       "stream": "stdout",
       "text": [
        "\n",
        "25000"
       ]
      },
      {
       "output_type": "stream",
       "stream": "stdout",
       "text": [
        "\n",
        "26000"
       ]
      },
      {
       "output_type": "stream",
       "stream": "stdout",
       "text": [
        "\n",
        "27000"
       ]
      },
      {
       "output_type": "stream",
       "stream": "stdout",
       "text": [
        "\n",
        "29000"
       ]
      },
      {
       "output_type": "stream",
       "stream": "stdout",
       "text": [
        "\n",
        "30000"
       ]
      },
      {
       "output_type": "stream",
       "stream": "stdout",
       "text": [
        "\n",
        "31000"
       ]
      },
      {
       "output_type": "stream",
       "stream": "stdout",
       "text": [
        "\n",
        "32000"
       ]
      },
      {
       "output_type": "stream",
       "stream": "stdout",
       "text": [
        "\n",
        "33000"
       ]
      },
      {
       "output_type": "stream",
       "stream": "stdout",
       "text": [
        "\n",
        "34000"
       ]
      },
      {
       "output_type": "stream",
       "stream": "stdout",
       "text": [
        "\n",
        "35000"
       ]
      },
      {
       "output_type": "stream",
       "stream": "stdout",
       "text": [
        "\n",
        "36000"
       ]
      },
      {
       "output_type": "stream",
       "stream": "stdout",
       "text": [
        "\n",
        "37000"
       ]
      },
      {
       "output_type": "stream",
       "stream": "stdout",
       "text": [
        "\n"
       ]
      }
     ],
     "prompt_number": 523
    },
    {
     "cell_type": "code",
     "collapsed": false,
     "input": [
      "items.index = range(len(items))"
     ],
     "language": "python",
     "metadata": {},
     "outputs": [],
     "prompt_number": 524
    },
    {
     "cell_type": "code",
     "collapsed": false,
     "input": [
      "items.head(5)"
     ],
     "language": "python",
     "metadata": {},
     "outputs": [
      {
       "html": [
        "<div style=\"max-height:1000px;max-width:1500px;overflow:auto;\">\n",
        "<table border=\"1\" class=\"dataframe\">\n",
        "  <thead>\n",
        "    <tr style=\"text-align: right;\">\n",
        "      <th></th>\n",
        "      <th>end_price</th>\n",
        "      <th>prod_id</th>\n",
        "      <th>model</th>\n",
        "      <th>prod_milage</th>\n",
        "      <th>prod_yr</th>\n",
        "      <th>utc_end_time</th>\n",
        "      <th>utc_duration</th>\n",
        "      <th>utc_start_time</th>\n",
        "      <th>start_price</th>\n",
        "      <th>age</th>\n",
        "      <th>9/10price</th>\n",
        "      <th>3/4price</th>\n",
        "      <th>1/2price</th>\n",
        "      <th>1/4price</th>\n",
        "    </tr>\n",
        "  </thead>\n",
        "  <tbody>\n",
        "    <tr>\n",
        "      <th>0</th>\n",
        "      <td>  6010</td>\n",
        "      <td> 111153016733</td>\n",
        "      <td>          Ford</td>\n",
        "      <td> 105024</td>\n",
        "      <td> 2005</td>\n",
        "      <td> 1378666800</td>\n",
        "      <td> 864000</td>\n",
        "      <td> 1377802800</td>\n",
        "      <td> 200.00</td>\n",
        "      <td>  9</td>\n",
        "      <td>  6000</td>\n",
        "      <td>  3351.00</td>\n",
        "      <td>  3351.00</td>\n",
        "      <td>  3151</td>\n",
        "    </tr>\n",
        "    <tr>\n",
        "      <th>1</th>\n",
        "      <td> 18200</td>\n",
        "      <td> 111155451890</td>\n",
        "      <td>     Chevrolet</td>\n",
        "      <td>  26818</td>\n",
        "      <td> 2011</td>\n",
        "      <td> 1378710000</td>\n",
        "      <td> 604800</td>\n",
        "      <td> 1378105200</td>\n",
        "      <td> 200.00</td>\n",
        "      <td>  3</td>\n",
        "      <td> 17800</td>\n",
        "      <td> 17600.00</td>\n",
        "      <td> 17600.00</td>\n",
        "      <td> 17600</td>\n",
        "    </tr>\n",
        "    <tr>\n",
        "      <th>2</th>\n",
        "      <td> 12511</td>\n",
        "      <td> 111155861689</td>\n",
        "      <td>        Toyota</td>\n",
        "      <td> 103902</td>\n",
        "      <td> 2006</td>\n",
        "      <td> 1378753200</td>\n",
        "      <td> 864000</td>\n",
        "      <td> 1377889200</td>\n",
        "      <td>   0.01</td>\n",
        "      <td>  8</td>\n",
        "      <td> 11311</td>\n",
        "      <td> 10021.00</td>\n",
        "      <td> 10000.00</td>\n",
        "      <td>  6000</td>\n",
        "    </tr>\n",
        "    <tr>\n",
        "      <th>3</th>\n",
        "      <td>  5399</td>\n",
        "      <td> 111155868828</td>\n",
        "      <td>         Mazda</td>\n",
        "      <td>  35369</td>\n",
        "      <td> 2012</td>\n",
        "      <td> 1378667088</td>\n",
        "      <td> 864000</td>\n",
        "      <td> 1377803088</td>\n",
        "      <td> 500.00</td>\n",
        "      <td>  2</td>\n",
        "      <td>  3150</td>\n",
        "      <td>  2122.66</td>\n",
        "      <td>  2122.66</td>\n",
        "      <td>  1350</td>\n",
        "    </tr>\n",
        "    <tr>\n",
        "      <th>4</th>\n",
        "      <td>  8900</td>\n",
        "      <td> 111155870001</td>\n",
        "      <td> Mercedes-Benz</td>\n",
        "      <td> 128698</td>\n",
        "      <td> 2004</td>\n",
        "      <td> 1378753200</td>\n",
        "      <td> 864000</td>\n",
        "      <td> 1377889200</td>\n",
        "      <td>   0.01</td>\n",
        "      <td> 10</td>\n",
        "      <td>  7100</td>\n",
        "      <td>  6300.00</td>\n",
        "      <td>  6300.00</td>\n",
        "      <td>  6300</td>\n",
        "    </tr>\n",
        "  </tbody>\n",
        "</table>\n",
        "</div>"
       ],
       "metadata": {},
       "output_type": "pyout",
       "prompt_number": 526,
       "text": [
        "   end_price       prod_id          model  prod_milage  prod_yr  utc_end_time  utc_duration  utc_start_time  start_price  age  9/10price  3/4price  1/2price  1/4price\n",
        "0       6010  111153016733           Ford       105024     2005    1378666800        864000      1377802800       200.00    9       6000   3351.00   3351.00      3151\n",
        "1      18200  111155451890      Chevrolet        26818     2011    1378710000        604800      1378105200       200.00    3      17800  17600.00  17600.00     17600\n",
        "2      12511  111155861689         Toyota       103902     2006    1378753200        864000      1377889200         0.01    8      11311  10021.00  10000.00      6000\n",
        "3       5399  111155868828          Mazda        35369     2012    1378667088        864000      1377803088       500.00    2       3150   2122.66   2122.66      1350\n",
        "4       8900  111155870001  Mercedes-Benz       128698     2004    1378753200        864000      1377889200         0.01   10       7100   6300.00   6300.00      6300"
       ]
      }
     ],
     "prompt_number": 526
    },
    {
     "cell_type": "code",
     "collapsed": false,
     "input": [
      "items.to_csv('items_nine_tenth_time.csv', index = False)"
     ],
     "language": "python",
     "metadata": {},
     "outputs": [],
     "prompt_number": 528
    },
    {
     "cell_type": "markdown",
     "metadata": {},
     "source": [
      "#Analysis"
     ]
    },
    {
     "cell_type": "code",
     "collapsed": false,
     "input": [
      "items = pd.read_csv('items_nine_tenth_time.csv')"
     ],
     "language": "python",
     "metadata": {},
     "outputs": [],
     "prompt_number": 501
    },
    {
     "cell_type": "code",
     "collapsed": false,
     "input": [
      "from scipy.stats import pearsonr"
     ],
     "language": "python",
     "metadata": {},
     "outputs": [],
     "prompt_number": 408
    },
    {
     "cell_type": "markdown",
     "metadata": {},
     "source": [
      "We now look at the relationships between the predictors and the final price."
     ]
    },
    {
     "cell_type": "code",
     "collapsed": false,
     "input": [
      "plt.xlabel('start price (initial bid), dollars')\n",
      "plt.ylabel('end price, dollars')\n",
      "plt.title('End Price vs. Start Price')\n",
      "plt.scatter(items['start_price'], items['end_price'])\n",
      "print pearsonr(items['start_price'], items['end_price'])"
     ],
     "language": "python",
     "metadata": {},
     "outputs": [
      {
       "output_type": "stream",
       "stream": "stdout",
       "text": [
        "(0.60516695173594071, 0.0)\n"
       ]
      },
      {
       "metadata": {},
       "output_type": "display_data",
       "png": "[encoded data removed]",
       "text": [
        "<matplotlib.figure.Figure at 0x17e601210>"
       ]
      }
     ],
     "prompt_number": 530
    },
    {
     "cell_type": "markdown",
     "metadata": {},
     "source": [
      "The correlation is significant, so we leave it as a predictor."
     ]
    },
    {
     "cell_type": "code",
     "collapsed": false,
     "input": [
      "plt.xlabel('square root of mileage')\n",
      "plt.ylabel('end price, dollars')\n",
      "plt.title('End Price vs Square Root of Mileage')\n",
      "plt.scatter(np.sqrt(items['prod_milage']), items['end_price'])"
     ],
     "language": "python",
     "metadata": {},
     "outputs": [
      {
       "metadata": {},
       "output_type": "pyout",
       "prompt_number": 531,
       "text": [
        "<matplotlib.collections.PathCollection at 0x198d154d0>"
       ]
      },
      {
       "metadata": {},
       "output_type": "display_data",
       "png": "[encoded data removed]",
       "text": [
        "<matplotlib.figure.Figure at 0x19274f610>"
       ]
      }
     ],
     "prompt_number": 531
    },
    {
     "cell_type": "markdown",
     "metadata": {},
     "source": [
      "We have taken the square root of the mileage to make the relationship look more linear."
     ]
    },
    {
     "cell_type": "code",
     "collapsed": false,
     "input": [
      "plt.xlabel('price at 9/10 time in the auction, dollars')\n",
      "plt.ylabel('end price, dollars')\n",
      "plt.title('End Price vs. Price at 9/10 Time')\n",
      "plt.scatter(items['9/10price'], items['end_price'])\n",
      "print pearsonr(items['9/10price'], items['end_price'])"
     ],
     "language": "python",
     "metadata": {},
     "outputs": [
      {
       "output_type": "stream",
       "stream": "stdout",
       "text": [
        "(0.8483140679550607, 0.0)\n"
       ]
      },
      {
       "metadata": {},
       "output_type": "display_data",
       "png": "[encoded data removed]",
       "text": [
        "<matplotlib.figure.Figure at 0x17e802a50>"
       ]
      }
     ],
     "prompt_number": 532
    },
    {
     "cell_type": "markdown",
     "metadata": {},
     "source": [
      "The 9/10 time price also has a significant positive correlation."
     ]
    },
    {
     "cell_type": "code",
     "collapsed": false,
     "input": [
      "plt.xlabel('square root of car age')\n",
      "plt.ylabel('end price, dollars')\n",
      "plt.title('End Price vs. Square Root of Car Age')\n",
      "plt.scatter(np.sqrt(items['age']), items['end_price'])\n",
      "print pearsonr(np.sqrt(items['age']), items['end_price'])"
     ],
     "language": "python",
     "metadata": {},
     "outputs": [
      {
       "output_type": "stream",
       "stream": "stdout",
       "text": [
        "(-0.42141837750823519, 0.0)\n"
       ]
      },
      {
       "metadata": {},
       "output_type": "display_data",
       "png": "[encoded data removed]",
       "text": [
        "<matplotlib.figure.Figure at 0x197d4c590>"
       ]
      }
     ],
     "prompt_number": 533
    },
    {
     "cell_type": "markdown",
     "metadata": {},
     "source": [
      "Like for mileage, we square root the year to make the relationship more linear; the correlation is again significant and negative, as we would expect."
     ]
    },
    {
     "cell_type": "code",
     "collapsed": false,
     "input": [
      "plt.xlabel('duration (seconds)')\n",
      "plt.ylabel('end price, dollars')\n",
      "plt.title('End Price vs. Auction Duration (Secs)')\n",
      "plt.scatter(items['utc_duration'], items['end_price'])"
     ],
     "language": "python",
     "metadata": {},
     "outputs": [
      {
       "metadata": {},
       "output_type": "pyout",
       "prompt_number": 534,
       "text": [
        "<matplotlib.collections.PathCollection at 0x1751ade10>"
       ]
      },
      {
       "metadata": {},
       "output_type": "display_data",
       "png": "[encoded data removed]",
       "text": [
        "<matplotlib.figure.Figure at 0x17db74ad0>"
       ]
      }
     ],
     "prompt_number": 534
    },
    {
     "cell_type": "code",
     "collapsed": false,
     "input": [
      "# We look at the means to see the relationship better\n",
      "means = items.groupby(by = 'utc_duration')['end_price'].mean()                                          \n",
      "means"
     ],
     "language": "python",
     "metadata": {},
     "outputs": [
      {
       "metadata": {},
       "output_type": "pyout",
       "prompt_number": 535,
       "text": [
        "utc_duration\n",
        "259200           4762.944561\n",
        "432000           6613.555869\n",
        "604800           8133.246796\n",
        "864000          12045.778543\n",
        "Name: end_price, dtype: float64"
       ]
      }
     ],
     "prompt_number": 535
    },
    {
     "cell_type": "markdown",
     "metadata": {},
     "source": [
      "The duration of the auction is also positively correlated with the price. We can now run a series of regressions using different sets of predictors, and comparing the results."
     ]
    },
    {
     "cell_type": "code",
     "collapsed": false,
     "input": [
      "# Run a regression with 4 predictors: utc_duration, sqrt(age), sqrt(prod_milage), start_price\n",
      "from sklearn.cross_validation import train_test_split\n",
      "from sklearn.linear_model import LinearRegression\n",
      "X = items[['utc_duration', 'age', 'prod_milage', 'start_price']]\n",
      "X['sqrt_age'] = np.sqrt(X['age'])\n",
      "X['sqrt_mileage'] = np.sqrt(X['prod_milage'])\n",
      "del X['age']\n",
      "del X['prod_milage']\n",
      "Y = items['end_price']\n",
      "\n",
      "X_train, X_test, y_train, y_test = train_test_split(X, Y)\n",
      "\n",
      "clf1 = LinearRegression()\n",
      "clf1.fit(X_train, y_train)\n",
      "predicted_train = clf1.predict(X_train)\n",
      "predicted_test = clf1.predict(X_test)\n",
      "print clf1.coef_"
     ],
     "language": "python",
     "metadata": {},
     "outputs": [
      {
       "output_type": "stream",
       "stream": "stdout",
       "text": [
        "[  5.71290882e-03   7.08509625e-01  -2.31377307e+03  -2.77140366e+01]\n"
       ]
      }
     ],
     "prompt_number": 536
    },
    {
     "cell_type": "markdown",
     "metadata": {},
     "source": [
      "Let's see how our regression did."
     ]
    },
    {
     "cell_type": "code",
     "collapsed": false,
     "input": [
      "plt.scatter(y_test, predicted_test, c='g', alpha=0.2)\n",
      "# plt.fit(y_test, predicted_test)\n",
      "plt.plot(range(200000), range(200000), c = 'r')\n",
      "print clf1.score(X_train, y_train)\n",
      "print clf1.score(X_test, y_test)"
     ],
     "language": "python",
     "metadata": {},
     "outputs": [
      {
       "output_type": "stream",
       "stream": "stdout",
       "text": [
        "0.560620687264\n",
        "0.510701379749\n"
       ]
      },
      {
       "metadata": {},
       "output_type": "display_data",
       "png": "[encoded data removed]",
       "text": [
        "<matplotlib.figure.Figure at 0x184374dd0>"
       ]
      }
     ],
     "prompt_number": 537
    },
    {
     "cell_type": "code",
     "collapsed": false,
     "input": [
      "# Calculate average and median error\n",
      "interm = (predicted_test - y_test) / y_test.astype(float)\n",
      "percent_errors = np.absolute(interm) * 100\n",
      "print 'Mean percentage error: ', percent_errors.mean()\n",
      "print 'Median percentage error: ', np.median(percent_errors)"
     ],
     "language": "python",
     "metadata": {},
     "outputs": [
      {
       "output_type": "stream",
       "stream": "stdout",
       "text": [
        "112.232427976\n"
       ]
      }
     ],
     "prompt_number": 414
    },
    {
     "cell_type": "markdown",
     "metadata": {},
     "source": [
      "As the graph above shows, we tend to under-predict the actual end price, and the mean error is quite high. We now incorporate the price that is known 9/10 through the duration of the auction. "
     ]
    },
    {
     "cell_type": "code",
     "collapsed": false,
     "input": [
      "# Run a regression with 5 predictors: utc_duration, sqrt(age), sqrt(prod_milage), start_price,\n",
      "# 9/10price\n",
      "X['9/10price'] = items['9/10price']"
     ],
     "language": "python",
     "metadata": {},
     "outputs": [],
     "prompt_number": 538
    },
    {
     "cell_type": "code",
     "collapsed": false,
     "input": [
      "X_train, X_test, y_train, y_test = train_test_split(X, Y)\n",
      "\n",
      "clf2 = LinearRegression()\n",
      "clf2.fit(X_train, y_train)\n",
      "predicted_train = clf2.predict(X_train)\n",
      "predicted_test = clf2.predict(X_test)\n",
      "print clf2.coef_"
     ],
     "language": "python",
     "metadata": {},
     "outputs": [
      {
       "output_type": "stream",
       "stream": "stdout",
       "text": [
        "[  2.48034359e-03   1.38318398e-01  -1.16735709e+03  -1.23484657e+01\n",
        "   8.05496357e-01]\n"
       ]
      }
     ],
     "prompt_number": 539
    },
    {
     "cell_type": "code",
     "collapsed": false,
     "input": [
      "plt.xlabel('actual end price')\n",
      "plt.ylabel('predicted end price')\n",
      "plt.title('Predicted End Price vs Actual End Price (4 initial predictors + 9/10 price)')\n",
      "plt.scatter(y_test, predicted_test, c='g', alpha=0.2)\n",
      "# plt.fit(y_test, predicted_test)\n",
      "plt.plot(range(200000), range(200000), c = 'r')\n",
      "print clf2.score(X_train, y_train)\n",
      "print clf2.score(X_test, y_test)"
     ],
     "language": "python",
     "metadata": {},
     "outputs": [
      {
       "output_type": "stream",
       "stream": "stdout",
       "text": [
        "0.796059889478\n",
        "0.672465577501\n"
       ]
      },
      {
       "metadata": {},
       "output_type": "display_data",
       "png": "[encoded data removed]",
       "text": [
        "<matplotlib.figure.Figure at 0x17759db10>"
       ]
      }
     ],
     "prompt_number": 543
    },
    {
     "cell_type": "markdown",
     "metadata": {},
     "source": [
      "Again, calculate the errors."
     ]
    },
    {
     "cell_type": "code",
     "collapsed": false,
     "input": [
      "# Calculate average and median error\n",
      "interm = (predicted_test - y_test) / y_test.astype(float)\n",
      "percent_errors = np.absolute(interm) * 100\n",
      "print 'Mean percentage error: ', percent_errors.mean()\n",
      "print 'Median percentage error: ', np.median(percent_errors)"
     ],
     "language": "python",
     "metadata": {},
     "outputs": [
      {
       "output_type": "stream",
       "stream": "stdout",
       "text": [
        "Mean percentage error:  55.8891076816\n",
        "Median percentage error:  32.0635032105\n"
       ]
      }
     ],
     "prompt_number": 541
    },
    {
     "cell_type": "markdown",
     "metadata": {},
     "source": [
      "The error is significantly better, and our predictions are a little more symmetric with respect to the 45-degree line. We now attempt to add prices at earlier points, although we would not expect them to add much since we already know the price at a later point."
     ]
    },
    {
     "cell_type": "code",
     "collapsed": false,
     "input": [
      "# Try adding number of bids and bidders\n",
      "X['3/4price'] = items['3/4price']\n",
      "X['1/2price'] = items['1/2price']\n",
      "X['1/4price'] = items['1/4price']"
     ],
     "language": "python",
     "metadata": {},
     "outputs": [],
     "prompt_number": 487
    },
    {
     "cell_type": "code",
     "collapsed": false,
     "input": [
      "X_train, X_test, y_train, y_test = train_test_split(X, Y)\n",
      "\n",
      "clf4 = LinearRegression()\n",
      "clf4.fit(X_train, y_train)\n",
      "predicted_train = clf4.predict(X_train)\n",
      "predicted_test = clf4.predict(X_test)\n",
      "print clf4.coef_\n",
      "\n",
      "plt.scatter(y_test, predicted_test, c='g', alpha=0.2)\n",
      "# plt.fit(y_test, predicted_test)\n",
      "plt.plot(range(200000), range(200000), c = 'r')\n",
      "print clf4.score(X_train, y_train)\n",
      "print clf4.score(X_test, y_test)\n",
      "\n",
      "# Calculate average and median error\n",
      "interm = (predicted_test - y_test) / y_test.astype(float)\n",
      "percent_errors = np.absolute(interm) * 100\n",
      "print 'Mean percentage error: ', percent_errors.mean()\n",
      "print 'Median percentage error: ', np.median(percent_errors)"
     ],
     "language": "python",
     "metadata": {},
     "outputs": [
      {
       "output_type": "stream",
       "stream": "stdout",
       "text": [
        "[  2.82306820e-03   1.80323169e-01  -1.18735023e+03  -1.28421501e+01\n",
        "   9.01965058e-01  -5.32873697e-02   1.54649750e-02  -1.23291998e-01]\n",
        "0.735538094152"
       ]
      },
      {
       "output_type": "stream",
       "stream": "stdout",
       "text": [
        "\n",
        "0.830594891015\n",
        "Mean percentage error:  55.320409336\n",
        "Median percentage error:  30.7854606051\n"
       ]
      },
      {
       "metadata": {},
       "output_type": "display_data",
       "png": "[encoded data removed]",
       "text": [
        "<matplotlib.figure.Figure at 0x18cac7050>"
       ]
      }
     ],
     "prompt_number": 488
    },
    {
     "cell_type": "markdown",
     "metadata": {},
     "source": [
      "There is no visible change in error, so the extra prices don't make much difference. We now take away all of the parameters known prior to the auction to make sure they have any extra benefit."
     ]
    },
    {
     "cell_type": "code",
     "collapsed": false,
     "input": [
      "# Now try without the initial parameters, converging to James's model\n",
      "X = X[['1/4price', '1/2price', '3/4price', '9/10price']]"
     ],
     "language": "python",
     "metadata": {},
     "outputs": [],
     "prompt_number": 489
    },
    {
     "cell_type": "code",
     "collapsed": false,
     "input": [
      "X_train, X_test, y_train, y_test = train_test_split(X, Y)\n",
      "\n",
      "clf3 = LinearRegression()\n",
      "clf3.fit(X_train, y_train)\n",
      "predicted_train = clf3.predict(X_train)\n",
      "predicted_test = clf3.predict(X_test)\n",
      "print clf3.coef_\n",
      "\n",
      "plt.scatter(y_test, predicted_test, c='g', alpha=0.2)\n",
      "plt.plot(range(200000), range(200000), c = 'r')\n",
      "print clf3.score(X_train, y_train)\n",
      "print clf3.score(X_test, y_test)\n",
      "\n",
      "# Calculate average and median error\n",
      "interm = (predicted_test - y_test) / y_test.astype(float)\n",
      "percent_errors = np.absolute(interm) * 100\n",
      "print 'Mean percentage error: ', percent_errors.mean()\n",
      "print 'Median percentage error: ', np.median(percent_errors)"
     ],
     "language": "python",
     "metadata": {},
     "outputs": [
      {
       "output_type": "stream",
       "stream": "stdout",
       "text": [
        "[-0.08980066  0.01504235 -0.06337443  1.112141  ]\n",
        "0.703618133679"
       ]
      },
      {
       "output_type": "stream",
       "stream": "stdout",
       "text": [
        "\n",
        "0.778248602143\n",
        "Mean percentage error:  67.9260716\n",
        "Median percentage error:  37.7351269119\n"
       ]
      },
      {
       "metadata": {},
       "output_type": "display_data",
       "png": "[encoded data removed]",
       "text": [
        "<matplotlib.figure.Figure at 0x17ddd5cd0>"
       ]
      }
     ],
     "prompt_number": 490
    },
    {
     "cell_type": "markdown",
     "metadata": {},
     "source": [
      "The performance is visibly worse than before, so the initial parameters do matter, as expected, but even in the best case so far our mean absolute error is about 55%, while the median absolute error is about 30%. We hypothesize that looking at the price dynamics before 9/10 of the auction more carefully will allow us to make a more accurate prediction. "
     ]
    }
   ],
   "metadata": {}
  }
 ]
}