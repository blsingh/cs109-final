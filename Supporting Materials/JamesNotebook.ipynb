{
 "metadata": {
  "name": ""
 },
 "nbformat": 3,
 "nbformat_minor": 0,
 "worksheets": [
  {
   "cells": [
    {
     "cell_type": "markdown",
     "metadata": {},
     "source": [
      "For my model on price prediction for ebay auction time series data, I drew inspiration from the paper title \"Modeling Price Dynamics in eBay Auctions Using Principal Differential Analysis\" by Wang et al. After reading that paper, what really struck me as interesting was the idea of velocity and acceleration with respect to prices. I found that idea to be very power, and I decided to use this idea to attempt to create a model for price prediction based on velocity and acceleration of prices. Before beginning my analysis, let me run down a quick intuition behind my model. As stated in Wang et al.'s paper, human psychology tends to the drive the behavior of bidding in online auction markets such as ebay, and the following phenomenon is often observed: we start off at the initial points of the auction with some fairly rapid bidding, where the price increases from starting value to a reasonable value, following this period is a lengthy time of little to no bitting as consumers want to hide their valuation of the item until the last second, and just before the end time of the auction, we see extremely rapid bidding, shooting the price to its final value. Thus, in an attempt to model this type of behavior, I decided that the velocity of bidding and the acceleration of prices are the most influential factors deciding an auction's final price. In accordance with the described price movement, velocity will begin postive, curve downwards towards zero before shooting back up to positive again. Acceleration on the other hand, begins negative, crosses zero and becomes hugely positive towards the end of the auction. Now lets dive into this modeling idea."
     ]
    },
    {
     "cell_type": "markdown",
     "metadata": {},
     "source": [
      "First, let's load the required libraries. Nothing special here, almost everything library is typical. I will be using Counter from the collection library to limit the minimum number of bids my model will accept. "
     ]
    },
    {
     "cell_type": "code",
     "collapsed": false,
     "input": [
      "import pandas as pd\n",
      "from datetime import datetime\n",
      "from collections import Counter\n",
      "import numpy as np\n",
      "%matplotlib inline\n",
      "import matplotlib.pyplot as plt"
     ],
     "language": "python",
     "metadata": {},
     "outputs": [],
     "prompt_number": 1
    },
    {
     "cell_type": "markdown",
     "metadata": {},
     "source": [
      "Now, the data we scrapped from ebay is in very raw form, so I've written several functions to help clean up this data. They are all very self explanatory and they include: function to clean up the timestamps, function to clean up the prices/bids, function to look for specific auctions in the dataset, and finally function to create a neat table from the dataset. One note is that we encounted the issue to automatic bids, where a user can set how high of a price he's willing to pay, and the system automatically bids for him up to that value (what's worse is that the bid time shown will be when he initially set the price, instead of the actual time of the bid). To tackle this issue, we imagine/assume automatic bids as just that person being very attentive up towards his max price, and he will bid 1 sec after he sees his bid being outmatched, assuming its not his max price yet. This is coded into our table making function."
     ]
    },
    {
     "cell_type": "code",
     "collapsed": false,
     "input": [
      "def convert_UTC(time):   \n",
      "    month_str = time.split('-')[0]\n",
      "    day = time.split('-')[1]\n",
      "    year_time_temp = time.split('-')[2]\n",
      "    year = year_time_temp.split()[0]\n",
      "    time_temp = year_time_temp.split()[1]\n",
      "    hour = time_temp.split(':')[0]\n",
      "    minute = time_temp.split(':')[1]\n",
      "    second = time_temp.split(':')[2]    \n",
      "    if month_str=='Jan':\n",
      "        month = 1\n",
      "    elif month_str=='Feb':\n",
      "        month = 2\n",
      "    elif month_str=='Mar':\n",
      "        month = 3\n",
      "    elif month_str=='Apr':\n",
      "        month = 4\n",
      "    elif month_str=='May':\n",
      "        month = 5\n",
      "    elif month_str=='Jun':\n",
      "        month = 6\n",
      "    elif month_str=='Jul':\n",
      "        month = 7\n",
      "    elif month_str=='Aug':\n",
      "        month = 8\n",
      "    elif month_str=='Sep':\n",
      "        month = 9\n",
      "    elif month_str=='Oct':\n",
      "        month = 10\n",
      "    elif month_str=='Nov':\n",
      "        month = 11\n",
      "    else:\n",
      "        month = 12       \n",
      "    year = int('20'+year)\n",
      "    month = int(month)\n",
      "    day = int(day)\n",
      "    hour = int(hour)\n",
      "    minute = int(minute)\n",
      "    second = int(second)        \n",
      "    datetime_ver = datetime(year, month, day, hour, minute, second)   \n",
      "    timestamp = (datetime_ver - datetime(1970, 1, 1)).total_seconds()\n",
      "    \n",
      "    return timestamp\n",
      "\n",
      "def price_converter(price):\n",
      "    temp = price[4:]\n",
      "    result = temp.replace(',', '')\n",
      "    return float(result)\n",
      "\n",
      "def idlookup(uniqueid, df):\n",
      "    temp = df[df[4] == uniqueid]\n",
      "    return temp\n",
      "\n",
      "def tablemaker(df):\n",
      "    time= []\n",
      "    price = []\n",
      "    for index, row in df.iterrows():\n",
      "        price.append(price_converter(row[1]))\n",
      "        time.append(convert_UTC(row[2]))\n",
      "        \n",
      "    result = pd.DataFrame({'price':price,'time':time})\n",
      "    \n",
      "    time_new = []\n",
      "    price_new = sorted(list(set(price)))\n",
      "    \n",
      "    for p in price_new:\n",
      "        temp = result[result.price == p]\n",
      "        time_new.append(max(temp.time))\n",
      "    \n",
      "    time_final = [time_new[0]]\n",
      "    \n",
      "    while True:\n",
      "        for i in xrange(1,len(time_new)):\n",
      "            if time_new[i] < time_new[i-1]:\n",
      "                time_final.append(time_new[i-1]+1)\n",
      "            else:\n",
      "                time_final.append(time_new[i])\n",
      "        temp1 = np.array(time_final)\n",
      "        temp2 = np.array(sorted(time_final))\n",
      "        if np.linalg.norm(temp1-temp2) == 0:\n",
      "            break\n",
      "        else:\n",
      "            time_new = time_final\n",
      "            time_final = [time_new[0]]\n",
      "        \n",
      "        \n",
      "    result2 = pd.DataFrame({'price':price_new,'time':time_final})\n",
      "    return result2"
     ],
     "language": "python",
     "metadata": {},
     "outputs": [],
     "prompt_number": 2
    },
    {
     "cell_type": "markdown",
     "metadata": {},
     "source": [
      "To demonstrate these functions really quickly as well as to visualize my modeling idea, we will load in some data: the following is one csv file from a list of ~200 that we scrapped from ebay."
     ]
    },
    {
     "cell_type": "code",
     "collapsed": false,
     "input": [
      "data = pd.read_csv('ts_10.csv', sep='\\t', header=None)\n",
      "print data.head()\n",
      "\n",
      "print len(data)"
     ],
     "language": "python",
     "metadata": {},
     "outputs": [
      {
       "output_type": "stream",
       "stream": "stdout",
       "text": [
        "   0             1                          2               3             4\n",
        "0  0  US $5,295.00  Oct-29-13    17:36:30 PDT      e***m( 1 )  181245245035\n",
        "1 -1  US $3,500.00  Oct-23-13    10:40:14 PDT  Starting Price  181245245035\n",
        "2  0  US $1,575.00  Oct-29-13    16:57:43 PDT      n***i( 61)  141097552906\n",
        "3  0  US $1,550.00  Oct-29-13    11:21:55 PDT      h***s( 2 )  141097552906\n",
        "4  1  US $1,525.00  Oct-29-13    11:21:55 PDT      h***s( 2 )  141097552906\n",
        "8666\n"
       ]
      }
     ],
     "prompt_number": 3
    },
    {
     "cell_type": "markdown",
     "metadata": {},
     "source": [
      "We can see that the format is pretty good, but not exactly super friendly to work with. Note that the 5th column is the auction ID that Tarik created. We'll be using that to search for specific auctions later. Now let's apply those functions I made to making this dataset nicer looking. First, the 3 columns we need are price, time, and auction ID. Let's extract that:"
     ]
    },
    {
     "cell_type": "code",
     "collapsed": false,
     "input": [
      "price = data[1]\n",
      "time = data[2]\n",
      "auctionid = data[4]"
     ],
     "language": "python",
     "metadata": {},
     "outputs": [],
     "prompt_number": 4
    },
    {
     "cell_type": "markdown",
     "metadata": {},
     "source": [
      "To give an example of what the result of the conversion will look like for price and time, consider the following example code:"
     ]
    },
    {
     "cell_type": "code",
     "collapsed": false,
     "input": [
      "sampleprice = price[0]\n",
      "sampletime = time[0]\n",
      "print sampletime, sampleprice\n",
      "print convert_UTC(sampletime),price_converter(sampleprice)"
     ],
     "language": "python",
     "metadata": {},
     "outputs": [
      {
       "output_type": "stream",
       "stream": "stdout",
       "text": [
        "Oct-29-13    17:36:30 PDT US $5,295.00\n",
        "1383068190.0 5295.0\n"
       ]
      }
     ],
     "prompt_number": 5
    },
    {
     "cell_type": "markdown",
     "metadata": {},
     "source": [
      "We see that we converted the pretty long/complicated date/time to a nice UTC timestamp, and likewise we removed the clutter from the price tag, leaving only the float value. Now let's apply this to the entire dataset and create a nice clean dataset to use. First thing we'll do is figure out how many auctions there are in this data set, and how many bids each auction has. Time to use the collection library!"
     ]
    },
    {
     "cell_type": "code",
     "collapsed": false,
     "input": [
      "counted = Counter(auctionid)\n",
      "keys = counted.keys()\n",
      "values = counted.values()\n",
      "n_counted = len(counted)\n",
      "\n",
      "print n_counted"
     ],
     "language": "python",
     "metadata": {},
     "outputs": [
      {
       "output_type": "stream",
       "stream": "stdout",
       "text": [
        "249\n"
       ]
      }
     ],
     "prompt_number": 6
    },
    {
     "cell_type": "markdown",
     "metadata": {},
     "source": [
      "Now it appears there's 249 auctions in this particular dataset, and in the code above the ID's of the auction are stored in the \"keys\" variable and the number of bids is stored in the \"values\" variable. Next we want to set a threshold for minimum number of bids we'll examine. I chose 20 after some trial and error. "
     ]
    },
    {
     "cell_type": "code",
     "collapsed": false,
     "input": [
      "threshold = 20"
     ],
     "language": "python",
     "metadata": {},
     "outputs": [],
     "prompt_number": 7
    },
    {
     "cell_type": "markdown",
     "metadata": {},
     "source": [
      "Now time to incorporate my threshold value and find a list of ID's that have at least 20 bids."
     ]
    },
    {
     "cell_type": "code",
     "collapsed": false,
     "input": [
      "usefulid = []\n",
      "for i in xrange(n_counted):\n",
      "    if values[i] > threshold:\n",
      "        usefulid.append(keys[i])\n",
      "\n",
      "print len(usefulid), \"auctions greater than\", threshold, \"bids\""
     ],
     "language": "python",
     "metadata": {},
     "outputs": [
      {
       "output_type": "stream",
       "stream": "stdout",
       "text": [
        "157 auctions greater than 20 bids\n"
       ]
      }
     ],
     "prompt_number": 8
    },
    {
     "cell_type": "markdown",
     "metadata": {},
     "source": [
      "So we've narrowed it down to 157, thats kind of a big loss, but it's okay because we'll be using ~200 datasets, so losing a little bit of data isn't a big deal. Also, it'll be nice to have more bid points to work with later. Now let's create a table for the first unique ID and demonstrate my intuition for the model through visualization. I just randomly chose a number to be created"
     ]
    },
    {
     "cell_type": "code",
     "collapsed": false,
     "input": [
      "test = idlookup(usefulid[1],data)\n",
      "table = tablemaker(test)\n",
      "\n",
      "print table.head()"
     ],
     "language": "python",
     "metadata": {},
     "outputs": [
      {
       "output_type": "stream",
       "stream": "stdout",
       "text": [
        "   price        time\n",
        "0   5000  1380734664\n",
        "1   5100  1380739535\n",
        "2   6000  1380739535\n",
        "3   6100  1380777835\n",
        "4  17000  1380777835\n"
       ]
      }
     ],
     "prompt_number": 9
    },
    {
     "cell_type": "markdown",
     "metadata": {},
     "source": [
      "So that's what the clean data table looks like for each unique auction ID, not too shabby. We'll perform some more cleaning to make the data easier to visualize and to fit later. First, we'll subtract the beginning time of the auction from each time value so that the auction always starts at 0, then normalize the time between 0 and 1 for convenience of visualization and prediction. Next we'll log the price/bid data to ease visualization and to reduce the impact of super different prices across different items. Finally, we can visualize what an auction price pattern typically looks like. "
     ]
    },
    {
     "cell_type": "code",
     "collapsed": false,
     "input": [
      "bid_100 = np.log(np.array(table.price)) #use log price\n",
      "time_100 = np.array(table.time)\n",
      "duration = max(time_100) - min(time_100)\n",
      "time_100 = (time_100 - min(time_100))/duration #normalize to (0,1)\n",
      "\n",
      "plt.plot(time_100,bid_100,'bo')\n",
      "plt.title(\"Typical Auction Pattern\")\n",
      "plt.xlabel(\"time\")\n",
      "plt.ylabel(\"price\")\n",
      "plt.show()"
     ],
     "language": "python",
     "metadata": {},
     "outputs": [
      {
       "metadata": {},
       "output_type": "display_data",
       "png": "[encoded data removed]",
       "text": [
        "<matplotlib.figure.Figure at 0x9f5f2e8>"
       ]
      }
     ],
     "prompt_number": 11
    },
    {
     "cell_type": "markdown",
     "metadata": {},
     "source": [
      "What we see above is a very typical auction price pattern, and it describes the psychology I was talking about earlier in the introductions. Now let's go deeper and examine the velocity and acceleration. To do that, first I must fit a curve to this data, and after some thought (and after looking at a lot more data), it appears a cubic polynomial best describes this data (both in terms of simplicity of the model as well as the accuracy of the fit)"
     ]
    },
    {
     "cell_type": "code",
     "collapsed": false,
     "input": [
      "# fit cubic on 100% of data\n",
      "p = np.polyfit(time_100,bid_100,3)\n",
      "x = np.arange(0,1,0.1)\n",
      "y = np.polyval(p,x)\n",
      "\n",
      "plt.plot(x,y,'bo')\n",
      "plt.title(\"Cubic Fitted Price Level\")\n",
      "plt.xlabel(\"time\")\n",
      "plt.ylabel(\"price\")\n",
      "plt.show()"
     ],
     "language": "python",
     "metadata": {},
     "outputs": [
      {
       "metadata": {},
       "output_type": "display_data",
       "png": "[encoded data removed]",
       "text": [
        "<matplotlib.figure.Figure at 0x9f70128>"
       ]
      }
     ],
     "prompt_number": 13
    },
    {
     "cell_type": "markdown",
     "metadata": {},
     "source": [
      "Doesn't look too terrible. Now let's visualize the velocity and acceleration to finally see what I was talking about in the introduction."
     ]
    },
    {
     "cell_type": "code",
     "collapsed": false,
     "input": [
      "p1 = np.polyder(p,1)\n",
      "y1 = np.polyval(p1,x)  \n",
      "p2 = np.polyder(p,2)\n",
      "y2 = np.polyval(p2,x)\n",
      "\n",
      "plt.plot(x,y1,'go')\n",
      "plt.title(\"Velocity vs. Time\")\n",
      "plt.xlabel(\"time\")\n",
      "plt.ylabel(\"velocity\")\n",
      "plt.show()\n",
      "plt.plot(x,y2,'ro')\n",
      "plt.title(\"Acceleration vs. Time\")\n",
      "plt.xlabel(\"time\")\n",
      "plt.ylabel(\"acceleration\")\n",
      "plt.show()"
     ],
     "language": "python",
     "metadata": {},
     "outputs": [
      {
       "metadata": {},
       "output_type": "display_data",
       "png": "[encoded data removed]",
       "text": [
        "<matplotlib.figure.Figure at 0x9f73c50>"
       ]
      },
      {
       "metadata": {},
       "output_type": "display_data",
       "png": "[encoded data removed]",
       "text": [
        "<matplotlib.figure.Figure at 0x9f8fe80>"
       ]
      }
     ],
     "prompt_number": 15
    },
    {
     "cell_type": "markdown",
     "metadata": {},
     "source": [
      "In the above graphs, we can finally visualize the phenomenon I was talking about earlier in terms of the movement of velocity and acceleration with time. We see that velocity starts postive, goes towards 0 and goes positive again as the auction end nears. For acceleration, it starts negative and moves towards positive as auction nears end. "
     ]
    },
    {
     "cell_type": "markdown",
     "metadata": {},
     "source": [
      "Now for the heart of the matter, I believe that velocity and acceleration, along with the price level, at a certain time are the most influential predictors of the find price. So here's my premise. I will use 90% of the bidding data for each auction, to create a 3 factor linear model based on price, velocity, and acceleration. Then I will attempt to predict the final price (t = 1) based on this model and showcase how I do. Furthermore, in order to determine how I should weigh the 3 factors mentioned above, I will create a separate 75% of the bidding data, and use this set to train my prediction model and determine the weights I should use for my prediction. By training this data I mean that I will create a system of equations in the form Ax = B, where A is a matrix of price,velocity, and acceleration values, and B is a matrix of price levels at a certain time point. Backsolving for x, I will get the weights. These equations will come from the fact that I will iterate from 75% of the data to 90% of the data, creating one equation for each data point in that interval. "
     ]
    },
    {
     "cell_type": "markdown",
     "metadata": {},
     "source": [
      "Lets start by creating the 90% and 75% data. Fitting a cubic on the 90% data, then solving for the weights using the 75% data. "
     ]
    },
    {
     "cell_type": "code",
     "collapsed": false,
     "input": [
      "# make 90 and 75% data\n",
      "n_90 = int(len(time_100)*0.9)\n",
      "n_75 = int(len(time_100)*0.75)\n",
      "bid_90 = bid_100[:n_90]\n",
      "time_90 = time_100[:n_90]\n",
      "bid_75 = bid_100[:n_75]\n",
      "time_75 = time_100[:n_75]\n",
      "\n",
      "# fit cubic on 90 data\n",
      "p = np.polyfit(time_90,bid_90,3)\n",
      "x = np.arange(0,1,0.1)\n",
      "y = np.polyval(p,x)\n",
      "\n",
      "# train using 75 data to find weights\n",
      "h = (time_90[-1]-time_75[-1])/(n_90-n_75)\n",
      "A = []\n",
      "B = []\n",
      "xx = time_75\n",
      "yy = bid_75\n",
      "for i in xrange(n_75,n_90):\n",
      "    pp = np.polyfit(xx,yy,3)\n",
      "    pred_point = xx[-1]+h  \n",
      "    y_actual = np.polyval(p,pred_point)  \n",
      "    ypred = np.polyval(pp,pred_point)\n",
      "    pp1 = np.polyder(pp,1)\n",
      "    ypred1 = np.polyval(pp1,pred_point)  \n",
      "    pp2 = np.polyder(pp,2)\n",
      "    ypred2 = np.polyval(pp2,pred_point)\n",
      "    \n",
      "    temp = [ypred, ypred1, ypred2]\n",
      "    A.append(temp)\n",
      "    B.append(y_actual)\n",
      "    xx = time_100[:i+1]\n",
      "    yy = bid_100[:i+1]\n",
      "\n",
      "A = np.asmatrix(A)\n",
      "B = np.transpose(np.asmatrix(B))\n",
      "\n",
      "sol = np.linalg.lstsq(A,B)\n",
      "weights = np.asarray(sol[0])\n",
      "\n",
      "print weights"
     ],
     "language": "python",
     "metadata": {},
     "outputs": [
      {
       "output_type": "stream",
       "stream": "stdout",
       "text": [
        "[[ 1.11701691]\n",
        " [ 0.47833255]\n",
        " [-0.17446779]]\n"
       ]
      }
     ],
     "prompt_number": 17
    },
    {
     "cell_type": "markdown",
     "metadata": {},
     "source": [
      "Now that I have the weights, its time to make a prediction based on them. "
     ]
    },
    {
     "cell_type": "code",
     "collapsed": false,
     "input": [
      "# make prediction based on trained weights\n",
      "pred_real = 1\n",
      "g = 1 - time_90[-1]\n",
      "y_pred_real = np.polyval(p,pred_real)\n",
      "p1real = np.polyder(p,1)\n",
      "y1real = np.polyval(p1real,pred_real)  \n",
      "p2real = np.polyder(p,2)\n",
      "y2real = np.polyval(p2real,pred_real)\n",
      "\n",
      "prediction = float(weights[0]*y_pred_real+weights[1]*y1real+weights[2]*y2real)\n",
      "actual_bid = bid_100[-1]\n",
      "\n",
      "error = abs((np.exp(prediction)-np.exp(actual_bid))/np.exp(actual_bid))\n",
      "\n",
      "print \"predicted log price\",prediction\n",
      "print \"actual log price\",actual_bid\n",
      "print \"error\",error\n",
      "\n",
      "plt.plot(time_100,bid_100,'bo')\n",
      "plt.axhline(prediction,color='r')\n",
      "plt.title(\"Typical Prediction\")\n",
      "plt.xlabel(\"time\")\n",
      "plt.ylabel(\"price\")\n",
      "plt.show()"
     ],
     "language": "python",
     "metadata": {},
     "outputs": [
      {
       "output_type": "stream",
       "stream": "stdout",
       "text": [
        "predicted log price 10.1816230506\n",
        "actual log price 10.3178132891\n",
        "error 0.127323399937\n"
       ]
      },
      {
       "metadata": {},
       "output_type": "display_data",
       "png": "[encoded data removed]",
       "text": [
        "<matplotlib.figure.Figure at 0xa0b96a0>"
       ]
      }
     ],
     "prompt_number": 23
    },
    {
     "cell_type": "markdown",
     "metadata": {},
     "source": [
      "Looks like an -13% error on the predictions once we re-scaled from log scale for this particular idnumber. Based on the graphics its under predicting, didn't get the magnitude of the huge spike at the end. Now let's scale this up and test it on all datasets we scrapped. Before I do that, I will automate the error production process by creating a function that does exactly what I just walked through."
     ]
    },
    {
     "cell_type": "code",
     "collapsed": false,
     "input": [
      "def vaalgo(idnumber,data):\n",
      "\n",
      "    test = idlookup(idnumber,data)\n",
      "    table = tablemaker(test)\n",
      "\n",
      "    bid_100 = np.log(np.array(table.price)) #use log price\n",
      "    time_100 = np.array(table.time)\n",
      "    duration = max(time_100) - min(time_100)\n",
      "    time_100 = (time_100 - min(time_100))/duration #normalize to (0,1)\n",
      "    \n",
      "    # make 90 and 75% data\n",
      "    n_90 = int(len(time_100)*0.9)\n",
      "    n_75 = int(len(time_100)*0.75)\n",
      "    \n",
      "    bid_90 = bid_100[:n_90]\n",
      "    time_90 = time_100[:n_90]\n",
      "    bid_75 = bid_100[:n_75]\n",
      "    time_75 = time_100[:n_75]\n",
      "    \n",
      "    # fit cubic on 90 data\n",
      "    p = np.polyfit(time_90,bid_90,3)\n",
      "    x = np.arange(0,1,0.1)\n",
      "    y = np.polyval(p,x)\n",
      "\n",
      "    # train using 75 data to find weights\n",
      "    h = (time_90[-1]-time_75[-1])/(n_90-n_75)\n",
      "    A = []\n",
      "    B = []\n",
      "    xx = time_75\n",
      "    yy = bid_75\n",
      "    for i in xrange(n_75,n_90):\n",
      "        pp = np.polyfit(xx,yy,3)\n",
      "        pred_point = xx[-1]+h  \n",
      "        y_actual = np.polyval(p,pred_point)  \n",
      "        ypred = np.polyval(pp,pred_point)\n",
      "        pp1 = np.polyder(pp,1)\n",
      "        ypred1 = np.polyval(pp1,pred_point) \n",
      "        pp2 = np.polyder(pp,2)\n",
      "        ypred2 = np.polyval(pp2,pred_point)\n",
      "        temp = [ypred, ypred1, ypred2]\n",
      "        \n",
      "        A.append(temp)\n",
      "        B.append(y_actual)\n",
      "        xx = time_100[:i+1]\n",
      "        yy = bid_100[:i+1]\n",
      "    \n",
      "    A = np.asmatrix(A)\n",
      "    B = np.transpose(np.asmatrix(B))\n",
      "    \n",
      "    sol = np.linalg.lstsq(A,B)\n",
      "    weights = np.asarray(sol[0])\n",
      "    \n",
      "    # make prediction based on trained weights\n",
      "    pred_real = 1\n",
      "    g = 1 - time_90[-1]\n",
      "    y_pred_real = np.polyval(p,pred_real)\n",
      "    p1real = np.polyder(p,1)\n",
      "    y1real = np.polyval(p1real,pred_real)  \n",
      "    p2real = np.polyder(p,2)\n",
      "    y2real = np.polyval(p2real,pred_real)\n",
      "    \n",
      "    prediction = float(weights[0]*y_pred_real+weights[1]*y1real+weights[2]*y2real)\n",
      "    actual_bid = bid_100[-1]\n",
      "    \n",
      "    error = abs((np.exp(prediction)-np.exp(actual_bid))/np.exp(actual_bid))\n",
      "    \n",
      "    return error"
     ],
     "language": "python",
     "metadata": {},
     "outputs": [],
     "prompt_number": 25
    },
    {
     "cell_type": "markdown",
     "metadata": {},
     "source": [
      "Like I said before, there's ~200 time series dataset, and I'll be reading them all in, creating a clean table, using threshold to figure out which auctions are useful. I'll save the error, as well as which id and dataset it came from so we can do some analysis later."
     ]
    },
    {
     "cell_type": "code",
     "collapsed": false,
     "input": [
      "super_id_store = []\n",
      "super_error_store = []\n",
      "\n",
      "filename = 'time_series_big.csv'\n",
      "data = pd.read_csv(filename, sep='\\t', header=None)\n",
      "\n",
      "price = data[1]\n",
      "time = data[2]\n",
      "auctionid = data[4]\n",
      "\n",
      "counted = Counter(auctionid)\n",
      "keys = counted.keys()\n",
      "values = counted.values()\n",
      "n_counted = len(counted)\n",
      "\n",
      "print \"number of auctions:\",(n_counted)\n",
      "\n",
      "threshold = 20\n",
      "\n",
      "usefulid = []\n",
      "for j in xrange(n_counted):\n",
      "    if values[j] > threshold:\n",
      "        usefulid.append(keys[j])\n",
      "\n",
      "n_id = len(usefulid)\n",
      "\n",
      "for k in xrange(n_id):\n",
      "    idnumber = usefulid[k]\n",
      "    super_id_store.append(idnumber)\n",
      "    error_temp = vaalgo(idnumber,data)\n",
      "    super_error_store.append(error_temp)    "
     ],
     "language": "python",
     "metadata": {},
     "outputs": [
      {
       "output_type": "stream",
       "stream": "stdout",
       "text": [
        "number of auctions: 44606\n"
       ]
      },
      {
       "output_type": "stream",
       "stream": "stderr",
       "text": [
        "C:\\Anaconda\\lib\\site-packages\\numpy\\lib\\polynomial.py:585: RankWarning: Polyfit may be poorly conditioned\n",
        "  warnings.warn(msg, RankWarning)\n"
       ]
      }
     ],
     "prompt_number": 26
    },
    {
     "cell_type": "markdown",
     "metadata": {},
     "source": [
      "Now let's do some simple data exploration on this massive dataset."
     ]
    },
    {
     "cell_type": "code",
     "collapsed": false,
     "input": [
      "print \"original dataset size:\", len(super_error_store)\n",
      "\n",
      "super_error_store2 = [x for x in super_error_store if x == x]\n",
      "super_error_store2 = [x for x in super_error_store if x < float('inf')]\n",
      "\n",
      "print \"dataset without NaN size:\", len(super_error_store2)\n",
      "print \"loss:\", len(super_error_store)-len(super_error_store2)\n",
      "\n",
      "super_mean = np.mean(super_error_store2)\n",
      "super_median = np.median(super_error_store2)\n",
      "\n",
      "super_max = max(super_error_store2)\n",
      "super_min = min(super_error_store2)\n",
      "\n",
      "print \"mean:\", super_mean, \"median:\", super_median, \"max:\", super_max, \"min:\", super_min"
     ],
     "language": "python",
     "metadata": {},
     "outputs": [
      {
       "output_type": "stream",
       "stream": "stdout",
       "text": [
        "original dataset size: 27589\n",
        "dataset without NaN size: 27159\n",
        "loss: 430\n",
        "mean: 7.00769880809e+299 median: 0.24746156717 max: 1.88793498176e+304 min: 7.89893850966e-06\n"
       ]
      }
     ],
     "prompt_number": 27
    },
    {
     "cell_type": "markdown",
     "metadata": {},
     "source": [
      "Well even after excluding NaN and Inf, there's still some obsurdly large values that are skewing our calculations, lets narrow the field down further. I want to examine errors that fall between (0,1):"
     ]
    },
    {
     "cell_type": "code",
     "collapsed": false,
     "input": [
      "super_edits = [x for x in super_error_store2 if x <= 1]\n",
      "\n",
      "print \"length of original data:\",len(super_error_store2)\n",
      "print \"length of editted data:\",len(super_edits)\n",
      "\n",
      "print \"loss:\", (len(super_error_store2)-len(super_edits))/float(len(super_error_store2))\n",
      "print \"editted mean:\", np.mean(super_edits), \"editted median:\", np.median(super_edits), \"editted std\", np.std(super_edits)\n",
      "plt.hist(super_edits)\n",
      "plt.title(\"Histogram of Error Distributions\")\n",
      "plt.xlabel(\"error\")\n",
      "plt.ylabel(\"frequency\")\n",
      "plt.show()"
     ],
     "language": "python",
     "metadata": {},
     "outputs": [
      {
       "output_type": "stream",
       "stream": "stdout",
       "text": [
        "length of original data: 27159\n",
        "length of editted data: 21220\n",
        "loss: 0.218675208955\n",
        "editted mean: 0.273671213044 editted median: 0.173396275922 editted std 0.273158015353\n"
       ]
      },
      {
       "metadata": {},
       "output_type": "display_data",
       "png": "[encoded data removed]",
       "text": [
        "<matplotlib.figure.Figure at 0xa0bcb38>"
       ]
      }
     ],
     "prompt_number": 28
    },
    {
     "cell_type": "markdown",
     "metadata": {},
     "source": [
      "We see that we lose approximately 20% of data if we do this \"edit\" but of the remaining data, the results remain pretty positive. We have a mean error of 27% and median of 17%. I choose the median measure to describe the data because as seen above we have a fairly right skewed distribution, and thus the median is a better descriptior. In addition, the editted data displays a standard deviation of 27%\n",
      "The implication of these results are 2 fold:\n",
      "1. Our model fails for around 20% of the data\n",
      "2. Of the 80% that our model does decently, the median error is around 17% with standard deviation of 27%."
     ]
    },
    {
     "cell_type": "markdown",
     "metadata": {},
     "source": [
      "Finally, lets examine what is going on in samples that produce absurdly huge errors to conclude this model:"
     ]
    },
    {
     "cell_type": "code",
     "collapsed": false,
     "input": [
      "print super_error_store[:10]\n",
      "print super_id_store[:10]"
     ],
     "language": "python",
     "metadata": {},
     "outputs": [
      {
       "output_type": "stream",
       "stream": "stdout",
       "text": [
        "[0.22154428618566263, 2297.2777277273749, 0.14876041573838938, 0.22827321842953704, 0.22669590945375048, 0.59255293614881455, inf, 0.096174079332594323, 953564.69655681716, 0.12581670402330553]\n",
        "[151169622815, 281179249683, 231052101672, 281171209483, 300968829374, 121207308479, 190943676202, 121197975410, 161127558252, 350867687662]\n"
       ]
      }
     ],
     "prompt_number": 29
    },
    {
     "cell_type": "markdown",
     "metadata": {},
     "source": [
      "Lets look deeper into id 190943676202\n"
     ]
    },
    {
     "cell_type": "code",
     "collapsed": false,
     "input": [
      "idnumber = 190943676202\n",
      "error_temp = vaalgo(idnumber,data)\n",
      "print error_temp\n"
     ],
     "language": "python",
     "metadata": {},
     "outputs": [
      {
       "output_type": "stream",
       "stream": "stdout",
       "text": [
        "inf\n"
       ]
      }
     ],
     "prompt_number": 30
    },
    {
     "cell_type": "code",
     "collapsed": false,
     "input": [
      "test = idlookup(idnumber,data)\n",
      "table = tablemaker(test)\n",
      "\n",
      "print table.head()\n",
      "\n",
      "bid_100 = np.log(np.array(table.price)) #use log price\n",
      "time_100 = np.array(table.time)\n",
      "duration = max(time_100) - min(time_100)\n",
      "time_100 = (time_100 - min(time_100))/duration #normalize to (0,1)\n",
      "\n",
      "plt.plot(time_100,bid_100,'bo')\n",
      "plt.show()\n",
      "\n",
      "# fit cubic on 100% of data\n",
      "p = np.polyfit(time_100,bid_100,3)\n",
      "x = np.arange(0,1,0.1)\n",
      "y = np.polyval(p,x)\n",
      "\n",
      "plt.plot(x,y,'bo')\n",
      "plt.title(\"Price vs. Time\")\n",
      "plt.xlabel(\"time\")\n",
      "plt.ylabel(\"price\")\n",
      "plt.show()\n",
      "\n",
      "p1 = np.polyder(p,1)\n",
      "y1 = np.polyval(p1,x)  \n",
      "p2 = np.polyder(p,2)\n",
      "y2 = np.polyval(p2,x)\n",
      "\n",
      "plt.plot(x,y1,'go')\n",
      "plt.title(\"Velocity vs. Time\")\n",
      "plt.xlabel(\"time\")\n",
      "plt.ylabel(\"v\")\n",
      "plt.show()\n",
      "plt.plot(x,y2,'ro')\n",
      "plt.title(\"Acceleration vs. Time\")\n",
      "plt.xlabel(\"time\")\n",
      "plt.ylabel(\"a\")\n",
      "plt.show()"
     ],
     "language": "python",
     "metadata": {},
     "outputs": [
      {
       "output_type": "stream",
       "stream": "stdout",
       "text": [
        "   price        time\n",
        "0    100  1382825127\n",
        "1   2000  1382851111\n",
        "2   2025  1382851112\n",
        "3   2050  1382851130\n",
        "4   2075  1382851131\n"
       ]
      },
      {
       "metadata": {},
       "output_type": "display_data",
       "png": "[encoded data removed]",
       "text": [
        "<matplotlib.figure.Figure at 0xa03f978>"
       ]
      },
      {
       "metadata": {},
       "output_type": "display_data",
       "png": "[encoded data removed]",
       "text": [
        "<matplotlib.figure.Figure at 0x15bc4b70>"
       ]
      },
      {
       "metadata": {},
       "output_type": "display_data",
       "png": "[encoded data removed]",
       "text": [
        "<matplotlib.figure.Figure at 0x15bc93c8>"
       ]
      },
      {
       "metadata": {},
       "output_type": "display_data",
       "png": "[encoded data removed]",
       "text": [
        "<matplotlib.figure.Figure at 0x9e14390>"
       ]
      }
     ],
     "prompt_number": 31
    },
    {
     "cell_type": "markdown",
     "metadata": {},
     "source": [
      "Exploratory data analysis shows that the data and the fitting seems to not really fit the shape of the price curve too well and that the number of data points to too small to create a better fit. Let's look at the algorithm"
     ]
    },
    {
     "cell_type": "code",
     "collapsed": false,
     "input": [
      "# make 90 and 75% data\n",
      "n_90 = int(len(time_100)*0.9)\n",
      "n_75 = int(len(time_100)*0.75)\n",
      "bid_90 = bid_100[:n_90]\n",
      "time_90 = time_100[:n_90]\n",
      "bid_75 = bid_100[:n_75]\n",
      "time_75 = time_100[:n_75]\n",
      "\n",
      "# fit cubic on 90 data\n",
      "p = np.polyfit(time_90,bid_90,3)\n",
      "x = np.arange(0,1,0.1)\n",
      "y = np.polyval(p,x)\n",
      "\n",
      "# train using 75 data to find weights\n",
      "h = (time_90[-1]-time_75[-1])/(n_90-n_75)\n",
      "A = []\n",
      "B = []\n",
      "xx = time_75\n",
      "yy = bid_75\n",
      "for i in xrange(n_75,n_90):\n",
      "    pp = np.polyfit(xx,yy,3)\n",
      "    pred_point = xx[-1]+h  \n",
      "    y_actual = np.polyval(p,pred_point)  \n",
      "    ypred = np.polyval(pp,pred_point)\n",
      "    pp1 = np.polyder(pp,1)\n",
      "    ypred1 = np.polyval(pp1,pred_point)  \n",
      "    pp2 = np.polyder(pp,2)\n",
      "    ypred2 = np.polyval(pp2,pred_point)\n",
      "    temp = [ypred, ypred1, ypred2]\n",
      "\n",
      "    A.append(temp)\n",
      "    B.append(y_actual)\n",
      "    xx = time_100[:i+1]\n",
      "    yy = bid_100[:i+1]\n",
      "\n",
      "A = np.asmatrix(A)\n",
      "B = np.transpose(np.asmatrix(B))\n",
      "\n",
      "sol = np.linalg.lstsq(A,B)\n",
      "weights = np.asarray(sol[0])\n",
      "\n",
      "print weights"
     ],
     "language": "python",
     "metadata": {},
     "outputs": [
      {
       "output_type": "stream",
       "stream": "stdout",
       "text": [
        "[[  1.03795271e+00]\n",
        " [ -1.48431186e-05]\n",
        " [ -1.11915798e-07]]\n"
       ]
      }
     ],
     "prompt_number": 32
    },
    {
     "cell_type": "markdown",
     "metadata": {},
     "source": [
      "It looks like the weights on velocity and acceleration are extremely small in magnitude. This is an example of how the weighting algorithm can be unstable at times"
     ]
    },
    {
     "cell_type": "code",
     "collapsed": false,
     "input": [
      "# make prediction based on trained weights\n",
      "pred_real = 1\n",
      "g = 1 - time_90[-1]\n",
      "y_pred_real = np.polyval(p,pred_real)\n",
      "p1real = np.polyder(p,1)\n",
      "y1real = np.polyval(p1real,pred_real)  \n",
      "p2real = np.polyder(p,2)\n",
      "y2real = np.polyval(p2real,pred_real)\n",
      "\n",
      "prediction = float(weights[0]*y_pred_real+weights[1]*y1real+weights[2]*y2real)\n",
      "actual_bid = bid_100[-1]\n",
      "\n",
      "error =(np.exp(prediction)-np.exp(actual_bid))/np.exp(actual_bid)\n",
      "\n",
      "print y_pred_real,y1real,y2real\n",
      "\n",
      "print \"predicted log price\",prediction\n",
      "print \"actual log price\",actual_bid\n",
      "print \"error\",error"
     ],
     "language": "python",
     "metadata": {},
     "outputs": [
      {
       "output_type": "stream",
       "stream": "stdout",
       "text": [
        "15668092.9892 48601581.4214 100478943.633\n",
        "predicted log price 16262006.9449\n",
        "actual log price 8.63052187672\n",
        "error inf\n"
       ]
      }
     ],
     "prompt_number": 33
    },
    {
     "cell_type": "markdown",
     "metadata": {},
     "source": [
      "I think the above statistics show the gist of the issue. One of the predicators, acceleration in this case, is so large in magnitude, that even when weighted, overly influences the result of the prediction to be far above the actual value. "
     ]
    },
    {
     "cell_type": "markdown",
     "metadata": {},
     "source": [
      "In conclusion, I've created a fairly simple but also fairly accurate model for ebay auction predictions. Some of the key takeaways are that it is possible to model human psychology, as displayed in auctions, for the most part through measuring the velocity and acceleration of price levels. I think overall there's 2 substantial issues that cause problems for my model: \n",
      "1. the weight calculation is imperfect and sometimes will producing weighting that cause vast over/under predictions\n",
      "2. the fitting of a cubic function onto the price level sometimes fails in matching the shape of the auction, causing the rest of the model to be mostly invalid.\n",
      "Keeping in mind these concessions, this model is not very computationally intensive or does it make large assumptions about the data. With the central of prediction in mind, it is able, with parsimony, to come to a fairly effective answer/error. \n",
      "To extend upon this model, I think it would be interesting to improve the training/machine learning aspects of the model. One idea would be to create a classifier using training data that recognizes the curve shapes, and fits them into several categories. Then, when we require predictions, the classifier would first fit the new data into a category of curve shapes, that would hopefully improve fitting and thus the accuracy of the results. "
     ]
    },
    {
     "cell_type": "code",
     "collapsed": false,
     "input": [],
     "language": "python",
     "metadata": {},
     "outputs": []
    }
   ],
   "metadata": {}
  }
 ]
}